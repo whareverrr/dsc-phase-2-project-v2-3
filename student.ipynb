{
 "cells": [
  {
   "cell_type": "markdown",
   "metadata": {},
   "source": [
    "## Final Project Submission\n",
    "\n",
    "Please fill out:\n",
    "\n",
    "\n",
    "- Group 2\n",
    "\n",
    "\n",
    "Student name: \n",
    "\n",
    "\n",
    "***Alvin\tKimathi***\n",
    "\n",
    "***Lynn\tOloo***\n",
    "\n",
    "***Hawkins\tMurithi***\n",
    "\n",
    "***Firdosa\tMohamed***\n",
    "\n",
    "\n",
    "* Student pace: FULL TIME/HYBRID\n",
    "\n",
    "* Scheduled project review date/time: 2nd MAY 2024\n",
    "\n",
    "* Instructor name: MARYANN MWIKALI\n",
    "\n",
    "* Blog post URL:\n"
   ]
  },
  {
   "cell_type": "markdown",
   "metadata": {},
   "source": [
    "# DATA UNDERSTANDING\n",
    "\n",
    "***Importing libraries***"
   ]
  },
  {
   "cell_type": "code",
   "execution_count": 1,
   "metadata": {},
   "outputs": [],
   "source": [
    "import pandas as pd\n",
    "import matplotlib as plt\n",
    "import matplotlib.pyplot as plt\n",
    "import seaborn as sns\n",
    "import numpy as np\n",
    "import warnings\n",
    "warnings.filterwarnings(\"ignore\")\n",
    "import scipy.stats as stats\n",
    "import statsmodels.api as sm\n",
    "from sklearn.model_selection import train_test_split\n",
    "from sklearn.metrics import mean_squared_error, r2_score\n",
    "from sklearn.linear_model import LinearRegression\n"
   ]
  },
  {
   "cell_type": "markdown",
   "metadata": {},
   "source": [
    "***Reading the Kc_house_data.csv Dataset***"
   ]
  },
  {
   "cell_type": "code",
   "execution_count": 2,
   "metadata": {},
   "outputs": [
    {
     "data": {
      "text/html": [
       "<div>\n",
       "<style scoped>\n",
       "    .dataframe tbody tr th:only-of-type {\n",
       "        vertical-align: middle;\n",
       "    }\n",
       "\n",
       "    .dataframe tbody tr th {\n",
       "        vertical-align: top;\n",
       "    }\n",
       "\n",
       "    .dataframe thead th {\n",
       "        text-align: right;\n",
       "    }\n",
       "</style>\n",
       "<table border=\"1\" class=\"dataframe\">\n",
       "  <thead>\n",
       "    <tr style=\"text-align: right;\">\n",
       "      <th></th>\n",
       "      <th>date</th>\n",
       "      <th>price</th>\n",
       "      <th>bedrooms</th>\n",
       "      <th>bathrooms</th>\n",
       "      <th>sqft_living</th>\n",
       "      <th>sqft_lot</th>\n",
       "      <th>floors</th>\n",
       "      <th>waterfront</th>\n",
       "      <th>view</th>\n",
       "      <th>condition</th>\n",
       "      <th>grade</th>\n",
       "      <th>sqft_above</th>\n",
       "      <th>sqft_basement</th>\n",
       "      <th>yr_built</th>\n",
       "      <th>yr_renovated</th>\n",
       "      <th>zipcode</th>\n",
       "      <th>lat</th>\n",
       "      <th>long</th>\n",
       "      <th>sqft_living15</th>\n",
       "      <th>sqft_lot15</th>\n",
       "    </tr>\n",
       "    <tr>\n",
       "      <th>id</th>\n",
       "      <th></th>\n",
       "      <th></th>\n",
       "      <th></th>\n",
       "      <th></th>\n",
       "      <th></th>\n",
       "      <th></th>\n",
       "      <th></th>\n",
       "      <th></th>\n",
       "      <th></th>\n",
       "      <th></th>\n",
       "      <th></th>\n",
       "      <th></th>\n",
       "      <th></th>\n",
       "      <th></th>\n",
       "      <th></th>\n",
       "      <th></th>\n",
       "      <th></th>\n",
       "      <th></th>\n",
       "      <th></th>\n",
       "      <th></th>\n",
       "    </tr>\n",
       "  </thead>\n",
       "  <tbody>\n",
       "    <tr>\n",
       "      <th>7129300520</th>\n",
       "      <td>10/13/2014</td>\n",
       "      <td>221900.0</td>\n",
       "      <td>3</td>\n",
       "      <td>1.00</td>\n",
       "      <td>1180</td>\n",
       "      <td>5650</td>\n",
       "      <td>1.0</td>\n",
       "      <td>NaN</td>\n",
       "      <td>NONE</td>\n",
       "      <td>Average</td>\n",
       "      <td>7 Average</td>\n",
       "      <td>1180</td>\n",
       "      <td>0.0</td>\n",
       "      <td>1955</td>\n",
       "      <td>0.0</td>\n",
       "      <td>98178</td>\n",
       "      <td>47.5112</td>\n",
       "      <td>-122.257</td>\n",
       "      <td>1340</td>\n",
       "      <td>5650</td>\n",
       "    </tr>\n",
       "    <tr>\n",
       "      <th>6414100192</th>\n",
       "      <td>12/9/2014</td>\n",
       "      <td>538000.0</td>\n",
       "      <td>3</td>\n",
       "      <td>2.25</td>\n",
       "      <td>2570</td>\n",
       "      <td>7242</td>\n",
       "      <td>2.0</td>\n",
       "      <td>NO</td>\n",
       "      <td>NONE</td>\n",
       "      <td>Average</td>\n",
       "      <td>7 Average</td>\n",
       "      <td>2170</td>\n",
       "      <td>400.0</td>\n",
       "      <td>1951</td>\n",
       "      <td>1991.0</td>\n",
       "      <td>98125</td>\n",
       "      <td>47.7210</td>\n",
       "      <td>-122.319</td>\n",
       "      <td>1690</td>\n",
       "      <td>7639</td>\n",
       "    </tr>\n",
       "    <tr>\n",
       "      <th>5631500400</th>\n",
       "      <td>2/25/2015</td>\n",
       "      <td>180000.0</td>\n",
       "      <td>2</td>\n",
       "      <td>1.00</td>\n",
       "      <td>770</td>\n",
       "      <td>10000</td>\n",
       "      <td>1.0</td>\n",
       "      <td>NO</td>\n",
       "      <td>NONE</td>\n",
       "      <td>Average</td>\n",
       "      <td>6 Low Average</td>\n",
       "      <td>770</td>\n",
       "      <td>0.0</td>\n",
       "      <td>1933</td>\n",
       "      <td>NaN</td>\n",
       "      <td>98028</td>\n",
       "      <td>47.7379</td>\n",
       "      <td>-122.233</td>\n",
       "      <td>2720</td>\n",
       "      <td>8062</td>\n",
       "    </tr>\n",
       "    <tr>\n",
       "      <th>2487200875</th>\n",
       "      <td>12/9/2014</td>\n",
       "      <td>604000.0</td>\n",
       "      <td>4</td>\n",
       "      <td>3.00</td>\n",
       "      <td>1960</td>\n",
       "      <td>5000</td>\n",
       "      <td>1.0</td>\n",
       "      <td>NO</td>\n",
       "      <td>NONE</td>\n",
       "      <td>Very Good</td>\n",
       "      <td>7 Average</td>\n",
       "      <td>1050</td>\n",
       "      <td>910.0</td>\n",
       "      <td>1965</td>\n",
       "      <td>0.0</td>\n",
       "      <td>98136</td>\n",
       "      <td>47.5208</td>\n",
       "      <td>-122.393</td>\n",
       "      <td>1360</td>\n",
       "      <td>5000</td>\n",
       "    </tr>\n",
       "    <tr>\n",
       "      <th>1954400510</th>\n",
       "      <td>2/18/2015</td>\n",
       "      <td>510000.0</td>\n",
       "      <td>3</td>\n",
       "      <td>2.00</td>\n",
       "      <td>1680</td>\n",
       "      <td>8080</td>\n",
       "      <td>1.0</td>\n",
       "      <td>NO</td>\n",
       "      <td>NONE</td>\n",
       "      <td>Average</td>\n",
       "      <td>8 Good</td>\n",
       "      <td>1680</td>\n",
       "      <td>0.0</td>\n",
       "      <td>1987</td>\n",
       "      <td>0.0</td>\n",
       "      <td>98074</td>\n",
       "      <td>47.6168</td>\n",
       "      <td>-122.045</td>\n",
       "      <td>1800</td>\n",
       "      <td>7503</td>\n",
       "    </tr>\n",
       "  </tbody>\n",
       "</table>\n",
       "</div>"
      ],
      "text/plain": [
       "                  date     price  bedrooms  bathrooms  sqft_living  sqft_lot  \\\n",
       "id                                                                             \n",
       "7129300520  10/13/2014  221900.0         3       1.00         1180      5650   \n",
       "6414100192   12/9/2014  538000.0         3       2.25         2570      7242   \n",
       "5631500400   2/25/2015  180000.0         2       1.00          770     10000   \n",
       "2487200875   12/9/2014  604000.0         4       3.00         1960      5000   \n",
       "1954400510   2/18/2015  510000.0         3       2.00         1680      8080   \n",
       "\n",
       "            floors waterfront  view  condition          grade  sqft_above  \\\n",
       "id                                                                          \n",
       "7129300520     1.0        NaN  NONE    Average      7 Average        1180   \n",
       "6414100192     2.0         NO  NONE    Average      7 Average        2170   \n",
       "5631500400     1.0         NO  NONE    Average  6 Low Average         770   \n",
       "2487200875     1.0         NO  NONE  Very Good      7 Average        1050   \n",
       "1954400510     1.0         NO  NONE    Average         8 Good        1680   \n",
       "\n",
       "           sqft_basement  yr_built  yr_renovated  zipcode      lat     long  \\\n",
       "id                                                                            \n",
       "7129300520           0.0      1955           0.0    98178  47.5112 -122.257   \n",
       "6414100192         400.0      1951        1991.0    98125  47.7210 -122.319   \n",
       "5631500400           0.0      1933           NaN    98028  47.7379 -122.233   \n",
       "2487200875         910.0      1965           0.0    98136  47.5208 -122.393   \n",
       "1954400510           0.0      1987           0.0    98074  47.6168 -122.045   \n",
       "\n",
       "            sqft_living15  sqft_lot15  \n",
       "id                                     \n",
       "7129300520           1340        5650  \n",
       "6414100192           1690        7639  \n",
       "5631500400           2720        8062  \n",
       "2487200875           1360        5000  \n",
       "1954400510           1800        7503  "
      ]
     },
     "execution_count": 2,
     "metadata": {},
     "output_type": "execute_result"
    }
   ],
   "source": [
    "df = pd.read_csv(\"data/kc_house_data.csv\", index_col = 0)\n",
    "df.head()"
   ]
  },
  {
   "cell_type": "code",
   "execution_count": 3,
   "metadata": {},
   "outputs": [
    {
     "data": {
      "text/plain": [
       "(21597, 20)"
      ]
     },
     "execution_count": 3,
     "metadata": {},
     "output_type": "execute_result"
    }
   ],
   "source": [
    "df.shape"
   ]
  },
  {
   "cell_type": "code",
   "execution_count": 4,
   "metadata": {},
   "outputs": [
    {
     "name": "stdout",
     "output_type": "stream",
     "text": [
      "<class 'pandas.core.frame.DataFrame'>\n",
      "Int64Index: 21597 entries, 7129300520 to 1523300157\n",
      "Data columns (total 20 columns):\n",
      " #   Column         Non-Null Count  Dtype  \n",
      "---  ------         --------------  -----  \n",
      " 0   date           21597 non-null  object \n",
      " 1   price          21597 non-null  float64\n",
      " 2   bedrooms       21597 non-null  int64  \n",
      " 3   bathrooms      21597 non-null  float64\n",
      " 4   sqft_living    21597 non-null  int64  \n",
      " 5   sqft_lot       21597 non-null  int64  \n",
      " 6   floors         21597 non-null  float64\n",
      " 7   waterfront     19221 non-null  object \n",
      " 8   view           21534 non-null  object \n",
      " 9   condition      21597 non-null  object \n",
      " 10  grade          21597 non-null  object \n",
      " 11  sqft_above     21597 non-null  int64  \n",
      " 12  sqft_basement  21597 non-null  object \n",
      " 13  yr_built       21597 non-null  int64  \n",
      " 14  yr_renovated   17755 non-null  float64\n",
      " 15  zipcode        21597 non-null  int64  \n",
      " 16  lat            21597 non-null  float64\n",
      " 17  long           21597 non-null  float64\n",
      " 18  sqft_living15  21597 non-null  int64  \n",
      " 19  sqft_lot15     21597 non-null  int64  \n",
      "dtypes: float64(6), int64(8), object(6)\n",
      "memory usage: 3.5+ MB\n"
     ]
    }
   ],
   "source": [
    "df.info()"
   ]
  },
  {
   "cell_type": "markdown",
   "metadata": {},
   "source": [
    "- The dataset contains 21,597 entries and 20 columns. \n",
    "- Some columns have missing values, such as \"waterfront\", \"view\", and \"yr_renovated\". \n",
    "- The data types include integers, floats, and objects (likely representing categorical variables)."
   ]
  },
  {
   "cell_type": "markdown",
   "metadata": {},
   "source": [
    "***Reading the column_names.md Dataset***"
   ]
  },
  {
   "cell_type": "code",
   "execution_count": 5,
   "metadata": {},
   "outputs": [
    {
     "data": {
      "text/html": [
       "<div>\n",
       "<style scoped>\n",
       "    .dataframe tbody tr th:only-of-type {\n",
       "        vertical-align: middle;\n",
       "    }\n",
       "\n",
       "    .dataframe tbody tr th {\n",
       "        vertical-align: top;\n",
       "    }\n",
       "\n",
       "    .dataframe thead th {\n",
       "        text-align: right;\n",
       "    }\n",
       "</style>\n",
       "<table border=\"1\" class=\"dataframe\">\n",
       "  <thead>\n",
       "    <tr style=\"text-align: right;\">\n",
       "      <th></th>\n",
       "      <th>Text</th>\n",
       "    </tr>\n",
       "  </thead>\n",
       "  <tbody>\n",
       "    <tr>\n",
       "      <th>0</th>\n",
       "      <td># Column Names and Descriptions for King Count...</td>\n",
       "    </tr>\n",
       "    <tr>\n",
       "      <th>1</th>\n",
       "      <td>* `id` - Unique identifier for a house\\n</td>\n",
       "    </tr>\n",
       "    <tr>\n",
       "      <th>2</th>\n",
       "      <td>* `date` - Date house was sold\\n</td>\n",
       "    </tr>\n",
       "    <tr>\n",
       "      <th>3</th>\n",
       "      <td>* `price` - Sale price (prediction target)\\n</td>\n",
       "    </tr>\n",
       "    <tr>\n",
       "      <th>4</th>\n",
       "      <td>* `bedrooms` - Number of bedrooms\\n</td>\n",
       "    </tr>\n",
       "    <tr>\n",
       "      <th>5</th>\n",
       "      <td>* `bathrooms` - Number of bathrooms\\n</td>\n",
       "    </tr>\n",
       "    <tr>\n",
       "      <th>6</th>\n",
       "      <td>* `sqft_living` - Square footage of living spa...</td>\n",
       "    </tr>\n",
       "    <tr>\n",
       "      <th>7</th>\n",
       "      <td>* `sqft_lot` - Square footage of the lot\\n</td>\n",
       "    </tr>\n",
       "    <tr>\n",
       "      <th>8</th>\n",
       "      <td>* `floors` - Number of floors (levels) in house\\n</td>\n",
       "    </tr>\n",
       "    <tr>\n",
       "      <th>9</th>\n",
       "      <td>* `waterfront` - Whether the house is on a wat...</td>\n",
       "    </tr>\n",
       "    <tr>\n",
       "      <th>10</th>\n",
       "      <td>* Includes Duwamish, Elliott Bay, Puget Soun...</td>\n",
       "    </tr>\n",
       "    <tr>\n",
       "      <th>11</th>\n",
       "      <td>* `view` - Quality of view from house\\n</td>\n",
       "    </tr>\n",
       "    <tr>\n",
       "      <th>12</th>\n",
       "      <td>* Includes views of Mt. Rainier, Olympics, C...</td>\n",
       "    </tr>\n",
       "    <tr>\n",
       "      <th>13</th>\n",
       "      <td>* `condition` - How good the overall condition...</td>\n",
       "    </tr>\n",
       "    <tr>\n",
       "      <th>14</th>\n",
       "      <td>* See the [King County Assessor Website](htt...</td>\n",
       "    </tr>\n",
       "    <tr>\n",
       "      <th>15</th>\n",
       "      <td>* `grade` - Overall grade of the house. Relate...</td>\n",
       "    </tr>\n",
       "    <tr>\n",
       "      <th>16</th>\n",
       "      <td>* See the [King County Assessor Website](htt...</td>\n",
       "    </tr>\n",
       "    <tr>\n",
       "      <th>17</th>\n",
       "      <td>* `sqft_above` - Square footage of house apart...</td>\n",
       "    </tr>\n",
       "    <tr>\n",
       "      <th>18</th>\n",
       "      <td>* `sqft_basement` - Square footage of the base...</td>\n",
       "    </tr>\n",
       "    <tr>\n",
       "      <th>19</th>\n",
       "      <td>* `yr_built` - Year when house was built\\n</td>\n",
       "    </tr>\n",
       "    <tr>\n",
       "      <th>20</th>\n",
       "      <td>* `yr_renovated` - Year when house was renovat...</td>\n",
       "    </tr>\n",
       "    <tr>\n",
       "      <th>21</th>\n",
       "      <td>* `zipcode` - ZIP Code used by the United Stat...</td>\n",
       "    </tr>\n",
       "    <tr>\n",
       "      <th>22</th>\n",
       "      <td>* `lat` - Latitude coordinate\\n</td>\n",
       "    </tr>\n",
       "    <tr>\n",
       "      <th>23</th>\n",
       "      <td>* `long` - Longitude coordinate\\n</td>\n",
       "    </tr>\n",
       "    <tr>\n",
       "      <th>24</th>\n",
       "      <td>* `sqft_living15` - The square footage of inte...</td>\n",
       "    </tr>\n",
       "    <tr>\n",
       "      <th>25</th>\n",
       "      <td>* `sqft_lot15` - The square footage of the lan...</td>\n",
       "    </tr>\n",
       "  </tbody>\n",
       "</table>\n",
       "</div>"
      ],
      "text/plain": [
       "                                                 Text\n",
       "0   # Column Names and Descriptions for King Count...\n",
       "1            * `id` - Unique identifier for a house\\n\n",
       "2                    * `date` - Date house was sold\\n\n",
       "3        * `price` - Sale price (prediction target)\\n\n",
       "4                 * `bedrooms` - Number of bedrooms\\n\n",
       "5               * `bathrooms` - Number of bathrooms\\n\n",
       "6   * `sqft_living` - Square footage of living spa...\n",
       "7          * `sqft_lot` - Square footage of the lot\\n\n",
       "8   * `floors` - Number of floors (levels) in house\\n\n",
       "9   * `waterfront` - Whether the house is on a wat...\n",
       "10    * Includes Duwamish, Elliott Bay, Puget Soun...\n",
       "11            * `view` - Quality of view from house\\n\n",
       "12    * Includes views of Mt. Rainier, Olympics, C...\n",
       "13  * `condition` - How good the overall condition...\n",
       "14    * See the [King County Assessor Website](htt...\n",
       "15  * `grade` - Overall grade of the house. Relate...\n",
       "16    * See the [King County Assessor Website](htt...\n",
       "17  * `sqft_above` - Square footage of house apart...\n",
       "18  * `sqft_basement` - Square footage of the base...\n",
       "19         * `yr_built` - Year when house was built\\n\n",
       "20  * `yr_renovated` - Year when house was renovat...\n",
       "21  * `zipcode` - ZIP Code used by the United Stat...\n",
       "22                    * `lat` - Latitude coordinate\\n\n",
       "23                  * `long` - Longitude coordinate\\n\n",
       "24  * `sqft_living15` - The square footage of inte...\n",
       "25  * `sqft_lot15` - The square footage of the lan..."
      ]
     },
     "execution_count": 5,
     "metadata": {},
     "output_type": "execute_result"
    }
   ],
   "source": [
    "with open('data/column_names.md', 'r') as file:\n",
    "    md_lines = file.readlines()\n",
    "\n",
    "df_col = pd.DataFrame({'Text': md_lines})\n",
    "\n",
    "df_col"
   ]
  },
  {
   "cell_type": "code",
   "execution_count": 6,
   "metadata": {},
   "outputs": [
    {
     "data": {
      "text/html": [
       "<div>\n",
       "<style scoped>\n",
       "    .dataframe tbody tr th:only-of-type {\n",
       "        vertical-align: middle;\n",
       "    }\n",
       "\n",
       "    .dataframe tbody tr th {\n",
       "        vertical-align: top;\n",
       "    }\n",
       "\n",
       "    .dataframe thead th {\n",
       "        text-align: right;\n",
       "    }\n",
       "</style>\n",
       "<table border=\"1\" class=\"dataframe\">\n",
       "  <thead>\n",
       "    <tr style=\"text-align: right;\">\n",
       "      <th></th>\n",
       "      <th>Text</th>\n",
       "    </tr>\n",
       "  </thead>\n",
       "  <tbody>\n",
       "    <tr>\n",
       "      <th>count</th>\n",
       "      <td>26</td>\n",
       "    </tr>\n",
       "    <tr>\n",
       "      <th>unique</th>\n",
       "      <td>26</td>\n",
       "    </tr>\n",
       "    <tr>\n",
       "      <th>top</th>\n",
       "      <td># Column Names and Descriptions for King Count...</td>\n",
       "    </tr>\n",
       "    <tr>\n",
       "      <th>freq</th>\n",
       "      <td>1</td>\n",
       "    </tr>\n",
       "  </tbody>\n",
       "</table>\n",
       "</div>"
      ],
      "text/plain": [
       "                                                     Text\n",
       "count                                                  26\n",
       "unique                                                 26\n",
       "top     # Column Names and Descriptions for King Count...\n",
       "freq                                                    1"
      ]
     },
     "execution_count": 6,
     "metadata": {},
     "output_type": "execute_result"
    }
   ],
   "source": [
    "df_col.describe()"
   ]
  },
  {
   "cell_type": "code",
   "execution_count": 7,
   "metadata": {},
   "outputs": [
    {
     "data": {
      "text/plain": [
       "(26, 1)"
      ]
     },
     "execution_count": 7,
     "metadata": {},
     "output_type": "execute_result"
    }
   ],
   "source": [
    "df_col.shape"
   ]
  },
  {
   "cell_type": "code",
   "execution_count": 8,
   "metadata": {},
   "outputs": [
    {
     "name": "stdout",
     "output_type": "stream",
     "text": [
      "<class 'pandas.core.frame.DataFrame'>\n",
      "RangeIndex: 26 entries, 0 to 25\n",
      "Data columns (total 1 columns):\n",
      " #   Column  Non-Null Count  Dtype \n",
      "---  ------  --------------  ----- \n",
      " 0   Text    26 non-null     object\n",
      "dtypes: object(1)\n",
      "memory usage: 336.0+ bytes\n"
     ]
    }
   ],
   "source": [
    "df_col.info()"
   ]
  },
  {
   "cell_type": "markdown",
   "metadata": {},
   "source": [
    "- The provided dataset consists of a single column named \"Text\" with 26 entries. \n",
    "- Each entry is of type object (likely representing strings or text data). \n",
    "- There are no missing values in the dataset.\n",
    "- It seems to be a small dataset containing textual data, possibly representing individual text samples, comments, or descriptions."
   ]
  },
  {
   "cell_type": "markdown",
   "metadata": {},
   "source": [
    "# DATA CLEANING\n",
    "\n",
    "***Kc_house_data.csv Dataset***"
   ]
  },
  {
   "cell_type": "markdown",
   "metadata": {},
   "source": [
    "At this point check for the existing columns and understand what the entail."
   ]
  },
  {
   "cell_type": "code",
   "execution_count": 9,
   "metadata": {},
   "outputs": [
    {
     "data": {
      "text/plain": [
       "Index(['date', 'price', 'bedrooms', 'bathrooms', 'sqft_living', 'sqft_lot',\n",
       "       'floors', 'waterfront', 'view', 'condition', 'grade', 'sqft_above',\n",
       "       'sqft_basement', 'yr_built', 'yr_renovated', 'zipcode', 'lat', 'long',\n",
       "       'sqft_living15', 'sqft_lot15'],\n",
       "      dtype='object')"
      ]
     },
     "execution_count": 9,
     "metadata": {},
     "output_type": "execute_result"
    }
   ],
   "source": [
    "df.columns"
   ]
  },
  {
   "cell_type": "markdown",
   "metadata": {},
   "source": [
    "Choose the best-looking predictors to include in the model."
   ]
  },
  {
   "cell_type": "code",
   "execution_count": 10,
   "metadata": {},
   "outputs": [
    {
     "data": {
      "text/html": [
       "<div>\n",
       "<style scoped>\n",
       "    .dataframe tbody tr th:only-of-type {\n",
       "        vertical-align: middle;\n",
       "    }\n",
       "\n",
       "    .dataframe tbody tr th {\n",
       "        vertical-align: top;\n",
       "    }\n",
       "\n",
       "    .dataframe thead th {\n",
       "        text-align: right;\n",
       "    }\n",
       "</style>\n",
       "<table border=\"1\" class=\"dataframe\">\n",
       "  <thead>\n",
       "    <tr style=\"text-align: right;\">\n",
       "      <th></th>\n",
       "      <th>price</th>\n",
       "      <th>bedrooms</th>\n",
       "      <th>sqft_living</th>\n",
       "      <th>sqft_lot</th>\n",
       "      <th>waterfront</th>\n",
       "      <th>view</th>\n",
       "      <th>condition</th>\n",
       "      <th>grade</th>\n",
       "      <th>yr_built</th>\n",
       "      <th>bathrooms</th>\n",
       "      <th>floors</th>\n",
       "      <th>yr_renovated</th>\n",
       "      <th>zipcode</th>\n",
       "    </tr>\n",
       "    <tr>\n",
       "      <th>id</th>\n",
       "      <th></th>\n",
       "      <th></th>\n",
       "      <th></th>\n",
       "      <th></th>\n",
       "      <th></th>\n",
       "      <th></th>\n",
       "      <th></th>\n",
       "      <th></th>\n",
       "      <th></th>\n",
       "      <th></th>\n",
       "      <th></th>\n",
       "      <th></th>\n",
       "      <th></th>\n",
       "    </tr>\n",
       "  </thead>\n",
       "  <tbody>\n",
       "    <tr>\n",
       "      <th>7129300520</th>\n",
       "      <td>221900.0</td>\n",
       "      <td>3</td>\n",
       "      <td>1180</td>\n",
       "      <td>5650</td>\n",
       "      <td>NaN</td>\n",
       "      <td>NONE</td>\n",
       "      <td>Average</td>\n",
       "      <td>7 Average</td>\n",
       "      <td>1955</td>\n",
       "      <td>1.00</td>\n",
       "      <td>1.0</td>\n",
       "      <td>0.0</td>\n",
       "      <td>98178</td>\n",
       "    </tr>\n",
       "    <tr>\n",
       "      <th>6414100192</th>\n",
       "      <td>538000.0</td>\n",
       "      <td>3</td>\n",
       "      <td>2570</td>\n",
       "      <td>7242</td>\n",
       "      <td>NO</td>\n",
       "      <td>NONE</td>\n",
       "      <td>Average</td>\n",
       "      <td>7 Average</td>\n",
       "      <td>1951</td>\n",
       "      <td>2.25</td>\n",
       "      <td>2.0</td>\n",
       "      <td>1991.0</td>\n",
       "      <td>98125</td>\n",
       "    </tr>\n",
       "    <tr>\n",
       "      <th>5631500400</th>\n",
       "      <td>180000.0</td>\n",
       "      <td>2</td>\n",
       "      <td>770</td>\n",
       "      <td>10000</td>\n",
       "      <td>NO</td>\n",
       "      <td>NONE</td>\n",
       "      <td>Average</td>\n",
       "      <td>6 Low Average</td>\n",
       "      <td>1933</td>\n",
       "      <td>1.00</td>\n",
       "      <td>1.0</td>\n",
       "      <td>NaN</td>\n",
       "      <td>98028</td>\n",
       "    </tr>\n",
       "    <tr>\n",
       "      <th>2487200875</th>\n",
       "      <td>604000.0</td>\n",
       "      <td>4</td>\n",
       "      <td>1960</td>\n",
       "      <td>5000</td>\n",
       "      <td>NO</td>\n",
       "      <td>NONE</td>\n",
       "      <td>Very Good</td>\n",
       "      <td>7 Average</td>\n",
       "      <td>1965</td>\n",
       "      <td>3.00</td>\n",
       "      <td>1.0</td>\n",
       "      <td>0.0</td>\n",
       "      <td>98136</td>\n",
       "    </tr>\n",
       "    <tr>\n",
       "      <th>1954400510</th>\n",
       "      <td>510000.0</td>\n",
       "      <td>3</td>\n",
       "      <td>1680</td>\n",
       "      <td>8080</td>\n",
       "      <td>NO</td>\n",
       "      <td>NONE</td>\n",
       "      <td>Average</td>\n",
       "      <td>8 Good</td>\n",
       "      <td>1987</td>\n",
       "      <td>2.00</td>\n",
       "      <td>1.0</td>\n",
       "      <td>0.0</td>\n",
       "      <td>98074</td>\n",
       "    </tr>\n",
       "    <tr>\n",
       "      <th>...</th>\n",
       "      <td>...</td>\n",
       "      <td>...</td>\n",
       "      <td>...</td>\n",
       "      <td>...</td>\n",
       "      <td>...</td>\n",
       "      <td>...</td>\n",
       "      <td>...</td>\n",
       "      <td>...</td>\n",
       "      <td>...</td>\n",
       "      <td>...</td>\n",
       "      <td>...</td>\n",
       "      <td>...</td>\n",
       "      <td>...</td>\n",
       "    </tr>\n",
       "    <tr>\n",
       "      <th>263000018</th>\n",
       "      <td>360000.0</td>\n",
       "      <td>3</td>\n",
       "      <td>1530</td>\n",
       "      <td>1131</td>\n",
       "      <td>NO</td>\n",
       "      <td>NONE</td>\n",
       "      <td>Average</td>\n",
       "      <td>8 Good</td>\n",
       "      <td>2009</td>\n",
       "      <td>2.50</td>\n",
       "      <td>3.0</td>\n",
       "      <td>0.0</td>\n",
       "      <td>98103</td>\n",
       "    </tr>\n",
       "    <tr>\n",
       "      <th>6600060120</th>\n",
       "      <td>400000.0</td>\n",
       "      <td>4</td>\n",
       "      <td>2310</td>\n",
       "      <td>5813</td>\n",
       "      <td>NO</td>\n",
       "      <td>NONE</td>\n",
       "      <td>Average</td>\n",
       "      <td>8 Good</td>\n",
       "      <td>2014</td>\n",
       "      <td>2.50</td>\n",
       "      <td>2.0</td>\n",
       "      <td>0.0</td>\n",
       "      <td>98146</td>\n",
       "    </tr>\n",
       "    <tr>\n",
       "      <th>1523300141</th>\n",
       "      <td>402101.0</td>\n",
       "      <td>2</td>\n",
       "      <td>1020</td>\n",
       "      <td>1350</td>\n",
       "      <td>NO</td>\n",
       "      <td>NONE</td>\n",
       "      <td>Average</td>\n",
       "      <td>7 Average</td>\n",
       "      <td>2009</td>\n",
       "      <td>0.75</td>\n",
       "      <td>2.0</td>\n",
       "      <td>0.0</td>\n",
       "      <td>98144</td>\n",
       "    </tr>\n",
       "    <tr>\n",
       "      <th>291310100</th>\n",
       "      <td>400000.0</td>\n",
       "      <td>3</td>\n",
       "      <td>1600</td>\n",
       "      <td>2388</td>\n",
       "      <td>NaN</td>\n",
       "      <td>NONE</td>\n",
       "      <td>Average</td>\n",
       "      <td>8 Good</td>\n",
       "      <td>2004</td>\n",
       "      <td>2.50</td>\n",
       "      <td>2.0</td>\n",
       "      <td>0.0</td>\n",
       "      <td>98027</td>\n",
       "    </tr>\n",
       "    <tr>\n",
       "      <th>1523300157</th>\n",
       "      <td>325000.0</td>\n",
       "      <td>2</td>\n",
       "      <td>1020</td>\n",
       "      <td>1076</td>\n",
       "      <td>NO</td>\n",
       "      <td>NONE</td>\n",
       "      <td>Average</td>\n",
       "      <td>7 Average</td>\n",
       "      <td>2008</td>\n",
       "      <td>0.75</td>\n",
       "      <td>2.0</td>\n",
       "      <td>0.0</td>\n",
       "      <td>98144</td>\n",
       "    </tr>\n",
       "  </tbody>\n",
       "</table>\n",
       "<p>21597 rows × 13 columns</p>\n",
       "</div>"
      ],
      "text/plain": [
       "               price  bedrooms  sqft_living  sqft_lot waterfront  view  \\\n",
       "id                                                                       \n",
       "7129300520  221900.0         3         1180      5650        NaN  NONE   \n",
       "6414100192  538000.0         3         2570      7242         NO  NONE   \n",
       "5631500400  180000.0         2          770     10000         NO  NONE   \n",
       "2487200875  604000.0         4         1960      5000         NO  NONE   \n",
       "1954400510  510000.0         3         1680      8080         NO  NONE   \n",
       "...              ...       ...          ...       ...        ...   ...   \n",
       "263000018   360000.0         3         1530      1131         NO  NONE   \n",
       "6600060120  400000.0         4         2310      5813         NO  NONE   \n",
       "1523300141  402101.0         2         1020      1350         NO  NONE   \n",
       "291310100   400000.0         3         1600      2388        NaN  NONE   \n",
       "1523300157  325000.0         2         1020      1076         NO  NONE   \n",
       "\n",
       "            condition          grade  yr_built  bathrooms  floors  \\\n",
       "id                                                                  \n",
       "7129300520    Average      7 Average      1955       1.00     1.0   \n",
       "6414100192    Average      7 Average      1951       2.25     2.0   \n",
       "5631500400    Average  6 Low Average      1933       1.00     1.0   \n",
       "2487200875  Very Good      7 Average      1965       3.00     1.0   \n",
       "1954400510    Average         8 Good      1987       2.00     1.0   \n",
       "...               ...            ...       ...        ...     ...   \n",
       "263000018     Average         8 Good      2009       2.50     3.0   \n",
       "6600060120    Average         8 Good      2014       2.50     2.0   \n",
       "1523300141    Average      7 Average      2009       0.75     2.0   \n",
       "291310100     Average         8 Good      2004       2.50     2.0   \n",
       "1523300157    Average      7 Average      2008       0.75     2.0   \n",
       "\n",
       "            yr_renovated  zipcode  \n",
       "id                                 \n",
       "7129300520           0.0    98178  \n",
       "6414100192        1991.0    98125  \n",
       "5631500400           NaN    98028  \n",
       "2487200875           0.0    98136  \n",
       "1954400510           0.0    98074  \n",
       "...                  ...      ...  \n",
       "263000018            0.0    98103  \n",
       "6600060120           0.0    98146  \n",
       "1523300141           0.0    98144  \n",
       "291310100            0.0    98027  \n",
       "1523300157           0.0    98144  \n",
       "\n",
       "[21597 rows x 13 columns]"
      ]
     },
     "execution_count": 10,
     "metadata": {},
     "output_type": "execute_result"
    }
   ],
   "source": [
    "new_df = df[['price', 'bedrooms', 'sqft_living', 'sqft_lot', 'waterfront','view', 'condition', 'grade','yr_built','bathrooms','floors','yr_renovated','zipcode']]\n",
    "new_df"
   ]
  },
  {
   "cell_type": "code",
   "execution_count": 11,
   "metadata": {},
   "outputs": [],
   "source": [
    "# Truncate the bedrooms bathrooms and floors columns as we cannot have 1/2 a bedroom, bathroom or floor.\n",
    "def truncate_columns(new_df, columns):\n",
    "    for column in columns:\n",
    "        new_df[column] = new_df[column].apply(lambda x: int(x))\n",
    "    \n",
    "    return new_df"
   ]
  },
  {
   "cell_type": "code",
   "execution_count": 12,
   "metadata": {},
   "outputs": [
    {
     "data": {
      "text/html": [
       "<div>\n",
       "<style scoped>\n",
       "    .dataframe tbody tr th:only-of-type {\n",
       "        vertical-align: middle;\n",
       "    }\n",
       "\n",
       "    .dataframe tbody tr th {\n",
       "        vertical-align: top;\n",
       "    }\n",
       "\n",
       "    .dataframe thead th {\n",
       "        text-align: right;\n",
       "    }\n",
       "</style>\n",
       "<table border=\"1\" class=\"dataframe\">\n",
       "  <thead>\n",
       "    <tr style=\"text-align: right;\">\n",
       "      <th></th>\n",
       "      <th>price</th>\n",
       "      <th>bedrooms</th>\n",
       "      <th>sqft_living</th>\n",
       "      <th>sqft_lot</th>\n",
       "      <th>waterfront</th>\n",
       "      <th>view</th>\n",
       "      <th>condition</th>\n",
       "      <th>grade</th>\n",
       "      <th>yr_built</th>\n",
       "      <th>bathrooms</th>\n",
       "      <th>floors</th>\n",
       "      <th>yr_renovated</th>\n",
       "      <th>zipcode</th>\n",
       "    </tr>\n",
       "    <tr>\n",
       "      <th>id</th>\n",
       "      <th></th>\n",
       "      <th></th>\n",
       "      <th></th>\n",
       "      <th></th>\n",
       "      <th></th>\n",
       "      <th></th>\n",
       "      <th></th>\n",
       "      <th></th>\n",
       "      <th></th>\n",
       "      <th></th>\n",
       "      <th></th>\n",
       "      <th></th>\n",
       "      <th></th>\n",
       "    </tr>\n",
       "  </thead>\n",
       "  <tbody>\n",
       "    <tr>\n",
       "      <th>7129300520</th>\n",
       "      <td>221900.0</td>\n",
       "      <td>3</td>\n",
       "      <td>1180</td>\n",
       "      <td>5650</td>\n",
       "      <td>NaN</td>\n",
       "      <td>NONE</td>\n",
       "      <td>Average</td>\n",
       "      <td>7 Average</td>\n",
       "      <td>1955</td>\n",
       "      <td>1</td>\n",
       "      <td>1</td>\n",
       "      <td>0.0</td>\n",
       "      <td>98178</td>\n",
       "    </tr>\n",
       "    <tr>\n",
       "      <th>6414100192</th>\n",
       "      <td>538000.0</td>\n",
       "      <td>3</td>\n",
       "      <td>2570</td>\n",
       "      <td>7242</td>\n",
       "      <td>NO</td>\n",
       "      <td>NONE</td>\n",
       "      <td>Average</td>\n",
       "      <td>7 Average</td>\n",
       "      <td>1951</td>\n",
       "      <td>2</td>\n",
       "      <td>2</td>\n",
       "      <td>1991.0</td>\n",
       "      <td>98125</td>\n",
       "    </tr>\n",
       "    <tr>\n",
       "      <th>5631500400</th>\n",
       "      <td>180000.0</td>\n",
       "      <td>2</td>\n",
       "      <td>770</td>\n",
       "      <td>10000</td>\n",
       "      <td>NO</td>\n",
       "      <td>NONE</td>\n",
       "      <td>Average</td>\n",
       "      <td>6 Low Average</td>\n",
       "      <td>1933</td>\n",
       "      <td>1</td>\n",
       "      <td>1</td>\n",
       "      <td>NaN</td>\n",
       "      <td>98028</td>\n",
       "    </tr>\n",
       "    <tr>\n",
       "      <th>2487200875</th>\n",
       "      <td>604000.0</td>\n",
       "      <td>4</td>\n",
       "      <td>1960</td>\n",
       "      <td>5000</td>\n",
       "      <td>NO</td>\n",
       "      <td>NONE</td>\n",
       "      <td>Very Good</td>\n",
       "      <td>7 Average</td>\n",
       "      <td>1965</td>\n",
       "      <td>3</td>\n",
       "      <td>1</td>\n",
       "      <td>0.0</td>\n",
       "      <td>98136</td>\n",
       "    </tr>\n",
       "    <tr>\n",
       "      <th>1954400510</th>\n",
       "      <td>510000.0</td>\n",
       "      <td>3</td>\n",
       "      <td>1680</td>\n",
       "      <td>8080</td>\n",
       "      <td>NO</td>\n",
       "      <td>NONE</td>\n",
       "      <td>Average</td>\n",
       "      <td>8 Good</td>\n",
       "      <td>1987</td>\n",
       "      <td>2</td>\n",
       "      <td>1</td>\n",
       "      <td>0.0</td>\n",
       "      <td>98074</td>\n",
       "    </tr>\n",
       "    <tr>\n",
       "      <th>...</th>\n",
       "      <td>...</td>\n",
       "      <td>...</td>\n",
       "      <td>...</td>\n",
       "      <td>...</td>\n",
       "      <td>...</td>\n",
       "      <td>...</td>\n",
       "      <td>...</td>\n",
       "      <td>...</td>\n",
       "      <td>...</td>\n",
       "      <td>...</td>\n",
       "      <td>...</td>\n",
       "      <td>...</td>\n",
       "      <td>...</td>\n",
       "    </tr>\n",
       "    <tr>\n",
       "      <th>263000018</th>\n",
       "      <td>360000.0</td>\n",
       "      <td>3</td>\n",
       "      <td>1530</td>\n",
       "      <td>1131</td>\n",
       "      <td>NO</td>\n",
       "      <td>NONE</td>\n",
       "      <td>Average</td>\n",
       "      <td>8 Good</td>\n",
       "      <td>2009</td>\n",
       "      <td>2</td>\n",
       "      <td>3</td>\n",
       "      <td>0.0</td>\n",
       "      <td>98103</td>\n",
       "    </tr>\n",
       "    <tr>\n",
       "      <th>6600060120</th>\n",
       "      <td>400000.0</td>\n",
       "      <td>4</td>\n",
       "      <td>2310</td>\n",
       "      <td>5813</td>\n",
       "      <td>NO</td>\n",
       "      <td>NONE</td>\n",
       "      <td>Average</td>\n",
       "      <td>8 Good</td>\n",
       "      <td>2014</td>\n",
       "      <td>2</td>\n",
       "      <td>2</td>\n",
       "      <td>0.0</td>\n",
       "      <td>98146</td>\n",
       "    </tr>\n",
       "    <tr>\n",
       "      <th>1523300141</th>\n",
       "      <td>402101.0</td>\n",
       "      <td>2</td>\n",
       "      <td>1020</td>\n",
       "      <td>1350</td>\n",
       "      <td>NO</td>\n",
       "      <td>NONE</td>\n",
       "      <td>Average</td>\n",
       "      <td>7 Average</td>\n",
       "      <td>2009</td>\n",
       "      <td>0</td>\n",
       "      <td>2</td>\n",
       "      <td>0.0</td>\n",
       "      <td>98144</td>\n",
       "    </tr>\n",
       "    <tr>\n",
       "      <th>291310100</th>\n",
       "      <td>400000.0</td>\n",
       "      <td>3</td>\n",
       "      <td>1600</td>\n",
       "      <td>2388</td>\n",
       "      <td>NaN</td>\n",
       "      <td>NONE</td>\n",
       "      <td>Average</td>\n",
       "      <td>8 Good</td>\n",
       "      <td>2004</td>\n",
       "      <td>2</td>\n",
       "      <td>2</td>\n",
       "      <td>0.0</td>\n",
       "      <td>98027</td>\n",
       "    </tr>\n",
       "    <tr>\n",
       "      <th>1523300157</th>\n",
       "      <td>325000.0</td>\n",
       "      <td>2</td>\n",
       "      <td>1020</td>\n",
       "      <td>1076</td>\n",
       "      <td>NO</td>\n",
       "      <td>NONE</td>\n",
       "      <td>Average</td>\n",
       "      <td>7 Average</td>\n",
       "      <td>2008</td>\n",
       "      <td>0</td>\n",
       "      <td>2</td>\n",
       "      <td>0.0</td>\n",
       "      <td>98144</td>\n",
       "    </tr>\n",
       "  </tbody>\n",
       "</table>\n",
       "<p>21597 rows × 13 columns</p>\n",
       "</div>"
      ],
      "text/plain": [
       "               price  bedrooms  sqft_living  sqft_lot waterfront  view  \\\n",
       "id                                                                       \n",
       "7129300520  221900.0         3         1180      5650        NaN  NONE   \n",
       "6414100192  538000.0         3         2570      7242         NO  NONE   \n",
       "5631500400  180000.0         2          770     10000         NO  NONE   \n",
       "2487200875  604000.0         4         1960      5000         NO  NONE   \n",
       "1954400510  510000.0         3         1680      8080         NO  NONE   \n",
       "...              ...       ...          ...       ...        ...   ...   \n",
       "263000018   360000.0         3         1530      1131         NO  NONE   \n",
       "6600060120  400000.0         4         2310      5813         NO  NONE   \n",
       "1523300141  402101.0         2         1020      1350         NO  NONE   \n",
       "291310100   400000.0         3         1600      2388        NaN  NONE   \n",
       "1523300157  325000.0         2         1020      1076         NO  NONE   \n",
       "\n",
       "            condition          grade  yr_built  bathrooms  floors  \\\n",
       "id                                                                  \n",
       "7129300520    Average      7 Average      1955          1       1   \n",
       "6414100192    Average      7 Average      1951          2       2   \n",
       "5631500400    Average  6 Low Average      1933          1       1   \n",
       "2487200875  Very Good      7 Average      1965          3       1   \n",
       "1954400510    Average         8 Good      1987          2       1   \n",
       "...               ...            ...       ...        ...     ...   \n",
       "263000018     Average         8 Good      2009          2       3   \n",
       "6600060120    Average         8 Good      2014          2       2   \n",
       "1523300141    Average      7 Average      2009          0       2   \n",
       "291310100     Average         8 Good      2004          2       2   \n",
       "1523300157    Average      7 Average      2008          0       2   \n",
       "\n",
       "            yr_renovated  zipcode  \n",
       "id                                 \n",
       "7129300520           0.0    98178  \n",
       "6414100192        1991.0    98125  \n",
       "5631500400           NaN    98028  \n",
       "2487200875           0.0    98136  \n",
       "1954400510           0.0    98074  \n",
       "...                  ...      ...  \n",
       "263000018            0.0    98103  \n",
       "6600060120           0.0    98146  \n",
       "1523300141           0.0    98144  \n",
       "291310100            0.0    98027  \n",
       "1523300157           0.0    98144  \n",
       "\n",
       "[21597 rows x 13 columns]"
      ]
     },
     "execution_count": 12,
     "metadata": {},
     "output_type": "execute_result"
    }
   ],
   "source": [
    "truncate_columns(new_df, ['bedrooms', 'bathrooms', 'floors'])"
   ]
  },
  {
   "cell_type": "code",
   "execution_count": 13,
   "metadata": {},
   "outputs": [],
   "source": [
    "#Waterfront' column transformation\n",
    "new_df['waterfront'].replace(to_replace=['NO', 'YES'], value=[0, 1], inplace=True)"
   ]
  },
  {
   "cell_type": "markdown",
   "metadata": {},
   "source": [
    "Use `.info()` to check for missing data in the columns"
   ]
  },
  {
   "cell_type": "code",
   "execution_count": 14,
   "metadata": {},
   "outputs": [
    {
     "name": "stdout",
     "output_type": "stream",
     "text": [
      "<class 'pandas.core.frame.DataFrame'>\n",
      "Int64Index: 21597 entries, 7129300520 to 1523300157\n",
      "Data columns (total 13 columns):\n",
      " #   Column        Non-Null Count  Dtype  \n",
      "---  ------        --------------  -----  \n",
      " 0   price         21597 non-null  float64\n",
      " 1   bedrooms      21597 non-null  int64  \n",
      " 2   sqft_living   21597 non-null  int64  \n",
      " 3   sqft_lot      21597 non-null  int64  \n",
      " 4   waterfront    19221 non-null  float64\n",
      " 5   view          21534 non-null  object \n",
      " 6   condition     21597 non-null  object \n",
      " 7   grade         21597 non-null  object \n",
      " 8   yr_built      21597 non-null  int64  \n",
      " 9   bathrooms     21597 non-null  int64  \n",
      " 10  floors        21597 non-null  int64  \n",
      " 11  yr_renovated  17755 non-null  float64\n",
      " 12  zipcode       21597 non-null  int64  \n",
      "dtypes: float64(3), int64(7), object(3)\n",
      "memory usage: 2.3+ MB\n"
     ]
    }
   ],
   "source": [
    "new_df.info()"
   ]
  },
  {
   "cell_type": "markdown",
   "metadata": {},
   "source": [
    "we see that the column `view` has some missing data but since they are very few and will have little or no effect on our analysis we decide to use `dropna` to drop the rows."
   ]
  },
  {
   "cell_type": "code",
   "execution_count": 15,
   "metadata": {},
   "outputs": [],
   "source": [
    "new_df = new_df.dropna()"
   ]
  },
  {
   "cell_type": "markdown",
   "metadata": {},
   "source": [
    "we again do `.info()` to see the output of our analysis."
   ]
  },
  {
   "cell_type": "code",
   "execution_count": 16,
   "metadata": {},
   "outputs": [
    {
     "name": "stdout",
     "output_type": "stream",
     "text": [
      "<class 'pandas.core.frame.DataFrame'>\n",
      "Int64Index: 15762 entries, 6414100192 to 1523300157\n",
      "Data columns (total 13 columns):\n",
      " #   Column        Non-Null Count  Dtype  \n",
      "---  ------        --------------  -----  \n",
      " 0   price         15762 non-null  float64\n",
      " 1   bedrooms      15762 non-null  int64  \n",
      " 2   sqft_living   15762 non-null  int64  \n",
      " 3   sqft_lot      15762 non-null  int64  \n",
      " 4   waterfront    15762 non-null  float64\n",
      " 5   view          15762 non-null  object \n",
      " 6   condition     15762 non-null  object \n",
      " 7   grade         15762 non-null  object \n",
      " 8   yr_built      15762 non-null  int64  \n",
      " 9   bathrooms     15762 non-null  int64  \n",
      " 10  floors        15762 non-null  int64  \n",
      " 11  yr_renovated  15762 non-null  float64\n",
      " 12  zipcode       15762 non-null  int64  \n",
      "dtypes: float64(3), int64(7), object(3)\n",
      "memory usage: 1.7+ MB\n"
     ]
    }
   ],
   "source": [
    "new_df.info()"
   ]
  },
  {
   "cell_type": "markdown",
   "metadata": {},
   "source": [
    "At this point we now see that all our columns have the same no of rows having non- null values hence we are ready to fodge a step forward."
   ]
  },
  {
   "cell_type": "markdown",
   "metadata": {},
   "source": [
    "# EXPLORATORY DATA ANALYSIS"
   ]
  },
  {
   "cell_type": "markdown",
   "metadata": {},
   "source": [
    "This stage involve exploration process, which involves generating and plotting histograms and box plots. This step allows us to gain insight into the distribution patterns of the data for each variable. By visualizing the histograms, we can better comprehend the spread and frequency of values within each variable, providing a foundation for further analysis. Box plots help us identify potential outliers."
   ]
  },
  {
   "cell_type": "markdown",
   "metadata": {},
   "source": [
    "### Descriptive Statistics"
   ]
  },
  {
   "cell_type": "code",
   "execution_count": 17,
   "metadata": {},
   "outputs": [
    {
     "data": {
      "text/html": [
       "<div>\n",
       "<style scoped>\n",
       "    .dataframe tbody tr th:only-of-type {\n",
       "        vertical-align: middle;\n",
       "    }\n",
       "\n",
       "    .dataframe tbody tr th {\n",
       "        vertical-align: top;\n",
       "    }\n",
       "\n",
       "    .dataframe thead th {\n",
       "        text-align: right;\n",
       "    }\n",
       "</style>\n",
       "<table border=\"1\" class=\"dataframe\">\n",
       "  <thead>\n",
       "    <tr style=\"text-align: right;\">\n",
       "      <th></th>\n",
       "      <th>price</th>\n",
       "      <th>bedrooms</th>\n",
       "      <th>sqft_living</th>\n",
       "      <th>sqft_lot</th>\n",
       "      <th>waterfront</th>\n",
       "      <th>yr_built</th>\n",
       "      <th>bathrooms</th>\n",
       "      <th>floors</th>\n",
       "      <th>yr_renovated</th>\n",
       "      <th>zipcode</th>\n",
       "    </tr>\n",
       "  </thead>\n",
       "  <tbody>\n",
       "    <tr>\n",
       "      <th>count</th>\n",
       "      <td>1.576200e+04</td>\n",
       "      <td>15762.000000</td>\n",
       "      <td>15762.000000</td>\n",
       "      <td>1.576200e+04</td>\n",
       "      <td>15762.000000</td>\n",
       "      <td>15762.000000</td>\n",
       "      <td>15762.000000</td>\n",
       "      <td>15762.000000</td>\n",
       "      <td>15762.000000</td>\n",
       "      <td>15762.000000</td>\n",
       "    </tr>\n",
       "    <tr>\n",
       "      <th>mean</th>\n",
       "      <td>5.413172e+05</td>\n",
       "      <td>3.378949</td>\n",
       "      <td>2084.512372</td>\n",
       "      <td>1.528082e+04</td>\n",
       "      <td>0.007613</td>\n",
       "      <td>1971.111217</td>\n",
       "      <td>1.753711</td>\n",
       "      <td>1.447659</td>\n",
       "      <td>82.440236</td>\n",
       "      <td>98077.558241</td>\n",
       "    </tr>\n",
       "    <tr>\n",
       "      <th>std</th>\n",
       "      <td>3.722258e+05</td>\n",
       "      <td>0.935301</td>\n",
       "      <td>918.617686</td>\n",
       "      <td>4.182288e+04</td>\n",
       "      <td>0.086924</td>\n",
       "      <td>29.336823</td>\n",
       "      <td>0.733333</td>\n",
       "      <td>0.551130</td>\n",
       "      <td>397.212626</td>\n",
       "      <td>53.414906</td>\n",
       "    </tr>\n",
       "    <tr>\n",
       "      <th>min</th>\n",
       "      <td>8.200000e+04</td>\n",
       "      <td>1.000000</td>\n",
       "      <td>370.000000</td>\n",
       "      <td>5.200000e+02</td>\n",
       "      <td>0.000000</td>\n",
       "      <td>1900.000000</td>\n",
       "      <td>0.000000</td>\n",
       "      <td>1.000000</td>\n",
       "      <td>0.000000</td>\n",
       "      <td>98001.000000</td>\n",
       "    </tr>\n",
       "    <tr>\n",
       "      <th>25%</th>\n",
       "      <td>3.210000e+05</td>\n",
       "      <td>3.000000</td>\n",
       "      <td>1430.000000</td>\n",
       "      <td>5.048500e+03</td>\n",
       "      <td>0.000000</td>\n",
       "      <td>1952.000000</td>\n",
       "      <td>1.000000</td>\n",
       "      <td>1.000000</td>\n",
       "      <td>0.000000</td>\n",
       "      <td>98033.000000</td>\n",
       "    </tr>\n",
       "    <tr>\n",
       "      <th>50%</th>\n",
       "      <td>4.500000e+05</td>\n",
       "      <td>3.000000</td>\n",
       "      <td>1920.000000</td>\n",
       "      <td>7.602000e+03</td>\n",
       "      <td>0.000000</td>\n",
       "      <td>1975.000000</td>\n",
       "      <td>2.000000</td>\n",
       "      <td>1.000000</td>\n",
       "      <td>0.000000</td>\n",
       "      <td>98065.000000</td>\n",
       "    </tr>\n",
       "    <tr>\n",
       "      <th>75%</th>\n",
       "      <td>6.448750e+05</td>\n",
       "      <td>4.000000</td>\n",
       "      <td>2550.000000</td>\n",
       "      <td>1.072000e+04</td>\n",
       "      <td>0.000000</td>\n",
       "      <td>1997.000000</td>\n",
       "      <td>2.000000</td>\n",
       "      <td>2.000000</td>\n",
       "      <td>0.000000</td>\n",
       "      <td>98117.000000</td>\n",
       "    </tr>\n",
       "    <tr>\n",
       "      <th>max</th>\n",
       "      <td>7.700000e+06</td>\n",
       "      <td>33.000000</td>\n",
       "      <td>13540.000000</td>\n",
       "      <td>1.651359e+06</td>\n",
       "      <td>1.000000</td>\n",
       "      <td>2015.000000</td>\n",
       "      <td>8.000000</td>\n",
       "      <td>3.000000</td>\n",
       "      <td>2015.000000</td>\n",
       "      <td>98199.000000</td>\n",
       "    </tr>\n",
       "  </tbody>\n",
       "</table>\n",
       "</div>"
      ],
      "text/plain": [
       "              price      bedrooms   sqft_living      sqft_lot    waterfront  \\\n",
       "count  1.576200e+04  15762.000000  15762.000000  1.576200e+04  15762.000000   \n",
       "mean   5.413172e+05      3.378949   2084.512372  1.528082e+04      0.007613   \n",
       "std    3.722258e+05      0.935301    918.617686  4.182288e+04      0.086924   \n",
       "min    8.200000e+04      1.000000    370.000000  5.200000e+02      0.000000   \n",
       "25%    3.210000e+05      3.000000   1430.000000  5.048500e+03      0.000000   \n",
       "50%    4.500000e+05      3.000000   1920.000000  7.602000e+03      0.000000   \n",
       "75%    6.448750e+05      4.000000   2550.000000  1.072000e+04      0.000000   \n",
       "max    7.700000e+06     33.000000  13540.000000  1.651359e+06      1.000000   \n",
       "\n",
       "           yr_built     bathrooms        floors  yr_renovated       zipcode  \n",
       "count  15762.000000  15762.000000  15762.000000  15762.000000  15762.000000  \n",
       "mean    1971.111217      1.753711      1.447659     82.440236  98077.558241  \n",
       "std       29.336823      0.733333      0.551130    397.212626     53.414906  \n",
       "min     1900.000000      0.000000      1.000000      0.000000  98001.000000  \n",
       "25%     1952.000000      1.000000      1.000000      0.000000  98033.000000  \n",
       "50%     1975.000000      2.000000      1.000000      0.000000  98065.000000  \n",
       "75%     1997.000000      2.000000      2.000000      0.000000  98117.000000  \n",
       "max     2015.000000      8.000000      3.000000   2015.000000  98199.000000  "
      ]
     },
     "execution_count": 17,
     "metadata": {},
     "output_type": "execute_result"
    }
   ],
   "source": [
    "new_df.describe()"
   ]
  },
  {
   "cell_type": "code",
   "execution_count": 18,
   "metadata": {},
   "outputs": [
    {
     "data": {
      "text/plain": [
       "(15762, 13)"
      ]
     },
     "execution_count": 18,
     "metadata": {},
     "output_type": "execute_result"
    }
   ],
   "source": [
    "new_df.shape"
   ]
  },
  {
   "cell_type": "markdown",
   "metadata": {},
   "source": [
    "### Converting the \"grade\"  column into the  \"grade value\"  and   \"grade description\""
   ]
  },
  {
   "cell_type": "markdown",
   "metadata": {},
   "source": [
    "- First lets check the unique values in grade and lets convert it into numeric values\n"
   ]
  },
  {
   "cell_type": "code",
   "execution_count": 19,
   "metadata": {
    "scrolled": true
   },
   "outputs": [
    {
     "data": {
      "text/plain": [
       "array(['7 Average', '8 Good', '11 Excellent', '9 Better', '6 Low Average',\n",
       "       '5 Fair', '10 Very Good', '12 Luxury', '4 Low', '3 Poor',\n",
       "       '13 Mansion'], dtype=object)"
      ]
     },
     "execution_count": 19,
     "metadata": {},
     "output_type": "execute_result"
    }
   ],
   "source": [
    "new_df.grade.unique()"
   ]
  },
  {
   "cell_type": "code",
   "execution_count": 20,
   "metadata": {},
   "outputs": [
    {
     "data": {
      "text/html": [
       "<div>\n",
       "<style scoped>\n",
       "    .dataframe tbody tr th:only-of-type {\n",
       "        vertical-align: middle;\n",
       "    }\n",
       "\n",
       "    .dataframe tbody tr th {\n",
       "        vertical-align: top;\n",
       "    }\n",
       "\n",
       "    .dataframe thead th {\n",
       "        text-align: right;\n",
       "    }\n",
       "</style>\n",
       "<table border=\"1\" class=\"dataframe\">\n",
       "  <thead>\n",
       "    <tr style=\"text-align: right;\">\n",
       "      <th></th>\n",
       "      <th>price</th>\n",
       "      <th>bedrooms</th>\n",
       "      <th>sqft_living</th>\n",
       "      <th>sqft_lot</th>\n",
       "      <th>waterfront</th>\n",
       "      <th>view</th>\n",
       "      <th>condition</th>\n",
       "      <th>grade</th>\n",
       "      <th>yr_built</th>\n",
       "      <th>bathrooms</th>\n",
       "      <th>floors</th>\n",
       "      <th>yr_renovated</th>\n",
       "      <th>zipcode</th>\n",
       "      <th>grade_value</th>\n",
       "      <th>grade_desc</th>\n",
       "    </tr>\n",
       "    <tr>\n",
       "      <th>id</th>\n",
       "      <th></th>\n",
       "      <th></th>\n",
       "      <th></th>\n",
       "      <th></th>\n",
       "      <th></th>\n",
       "      <th></th>\n",
       "      <th></th>\n",
       "      <th></th>\n",
       "      <th></th>\n",
       "      <th></th>\n",
       "      <th></th>\n",
       "      <th></th>\n",
       "      <th></th>\n",
       "      <th></th>\n",
       "      <th></th>\n",
       "    </tr>\n",
       "  </thead>\n",
       "  <tbody>\n",
       "    <tr>\n",
       "      <th>6414100192</th>\n",
       "      <td>538000.0</td>\n",
       "      <td>3</td>\n",
       "      <td>2570</td>\n",
       "      <td>7242</td>\n",
       "      <td>0.0</td>\n",
       "      <td>NONE</td>\n",
       "      <td>Average</td>\n",
       "      <td>7 Average</td>\n",
       "      <td>1951</td>\n",
       "      <td>2</td>\n",
       "      <td>2</td>\n",
       "      <td>1991.0</td>\n",
       "      <td>98125</td>\n",
       "      <td>7</td>\n",
       "      <td>Average</td>\n",
       "    </tr>\n",
       "    <tr>\n",
       "      <th>2487200875</th>\n",
       "      <td>604000.0</td>\n",
       "      <td>4</td>\n",
       "      <td>1960</td>\n",
       "      <td>5000</td>\n",
       "      <td>0.0</td>\n",
       "      <td>NONE</td>\n",
       "      <td>Very Good</td>\n",
       "      <td>7 Average</td>\n",
       "      <td>1965</td>\n",
       "      <td>3</td>\n",
       "      <td>1</td>\n",
       "      <td>0.0</td>\n",
       "      <td>98136</td>\n",
       "      <td>7</td>\n",
       "      <td>Average</td>\n",
       "    </tr>\n",
       "    <tr>\n",
       "      <th>1954400510</th>\n",
       "      <td>510000.0</td>\n",
       "      <td>3</td>\n",
       "      <td>1680</td>\n",
       "      <td>8080</td>\n",
       "      <td>0.0</td>\n",
       "      <td>NONE</td>\n",
       "      <td>Average</td>\n",
       "      <td>8 Good</td>\n",
       "      <td>1987</td>\n",
       "      <td>2</td>\n",
       "      <td>1</td>\n",
       "      <td>0.0</td>\n",
       "      <td>98074</td>\n",
       "      <td>8</td>\n",
       "      <td>Good</td>\n",
       "    </tr>\n",
       "    <tr>\n",
       "      <th>7237550310</th>\n",
       "      <td>1230000.0</td>\n",
       "      <td>4</td>\n",
       "      <td>5420</td>\n",
       "      <td>101930</td>\n",
       "      <td>0.0</td>\n",
       "      <td>NONE</td>\n",
       "      <td>Average</td>\n",
       "      <td>11 Excellent</td>\n",
       "      <td>2001</td>\n",
       "      <td>4</td>\n",
       "      <td>1</td>\n",
       "      <td>0.0</td>\n",
       "      <td>98053</td>\n",
       "      <td>11</td>\n",
       "      <td>Excellent</td>\n",
       "    </tr>\n",
       "    <tr>\n",
       "      <th>1321400060</th>\n",
       "      <td>257500.0</td>\n",
       "      <td>3</td>\n",
       "      <td>1715</td>\n",
       "      <td>6819</td>\n",
       "      <td>0.0</td>\n",
       "      <td>NONE</td>\n",
       "      <td>Average</td>\n",
       "      <td>7 Average</td>\n",
       "      <td>1995</td>\n",
       "      <td>2</td>\n",
       "      <td>2</td>\n",
       "      <td>0.0</td>\n",
       "      <td>98003</td>\n",
       "      <td>7</td>\n",
       "      <td>Average</td>\n",
       "    </tr>\n",
       "  </tbody>\n",
       "</table>\n",
       "</div>"
      ],
      "text/plain": [
       "                price  bedrooms  sqft_living  sqft_lot  waterfront  view  \\\n",
       "id                                                                         \n",
       "6414100192   538000.0         3         2570      7242         0.0  NONE   \n",
       "2487200875   604000.0         4         1960      5000         0.0  NONE   \n",
       "1954400510   510000.0         3         1680      8080         0.0  NONE   \n",
       "7237550310  1230000.0         4         5420    101930         0.0  NONE   \n",
       "1321400060   257500.0         3         1715      6819         0.0  NONE   \n",
       "\n",
       "            condition         grade  yr_built  bathrooms  floors  \\\n",
       "id                                                                 \n",
       "6414100192    Average     7 Average      1951          2       2   \n",
       "2487200875  Very Good     7 Average      1965          3       1   \n",
       "1954400510    Average        8 Good      1987          2       1   \n",
       "7237550310    Average  11 Excellent      2001          4       1   \n",
       "1321400060    Average     7 Average      1995          2       2   \n",
       "\n",
       "            yr_renovated  zipcode  grade_value grade_desc  \n",
       "id                                                         \n",
       "6414100192        1991.0    98125            7    Average  \n",
       "2487200875           0.0    98136            7    Average  \n",
       "1954400510           0.0    98074            8       Good  \n",
       "7237550310           0.0    98053           11  Excellent  \n",
       "1321400060           0.0    98003            7    Average  "
      ]
     },
     "execution_count": 20,
     "metadata": {},
     "output_type": "execute_result"
    }
   ],
   "source": [
    "# Define a function to extract the numeric grade from the grade column\n",
    "def extract_numeric_grade(s):\n",
    "    numeric_str = ''\n",
    "    for char in s:\n",
    "        if char.isdigit():\n",
    "            numeric_str += char\n",
    "    return int(numeric_str)\n",
    "\n",
    "# Define a function to extract the grade description from the grade column\n",
    "def extract_grade_desc(s):\n",
    "    grade_desc = ''\n",
    "    for char in s:\n",
    "        if not char.isdigit() and char != ' ':\n",
    "            grade_desc += char\n",
    "    return grade_desc.strip()\n",
    "\n",
    "# Extract the numeric grade and grade description using the custom functions\n",
    "new_df['grade_value'] = new_df['grade'].apply(lambda x: extract_numeric_grade(x))\n",
    "new_df['grade_desc'] = new_df['grade'].apply(lambda x: extract_grade_desc(x))\n",
    "\n",
    "new_df.head()"
   ]
  },
  {
   "cell_type": "markdown",
   "metadata": {},
   "source": [
    "### Checking for outliers"
   ]
  },
  {
   "cell_type": "code",
   "execution_count": 21,
   "metadata": {},
   "outputs": [
    {
     "data": {
      "text/plain": [
       "<seaborn.axisgrid.FacetGrid at 0x1503f7c9250>"
      ]
     },
     "execution_count": 21,
     "metadata": {},
     "output_type": "execute_result"
    },
    {
     "data": {
      "image/png": "[encoded data removed]",
      "text/plain": [
       "<Figure size 648x216 with 1 Axes>"
      ]
     },
     "metadata": {
      "needs_background": "light"
     },
     "output_type": "display_data"
    }
   ],
   "source": [
    "# An outlier is an obervation that lies in an abnormal distance from other values\n",
    "# Outliers affect the data quality and hence the accuracy of the final model\n",
    "\n",
    "sns.catplot(x='price', data=new_df, kind='box', height=3, aspect=3).set(title=\"With Outliers\")"
   ]
  },
  {
   "cell_type": "markdown",
   "metadata": {},
   "source": [
    "### Dealing with outliers\n",
    "- An outlier is an obervation that lies in an abnormal distance from other values\n",
    "\n",
    "- Outliers affect the data quality and hence the accuracy of the final model\n",
    "\n",
    "- You can deal with the outliers by removing them to improve the quality of the model"
   ]
  },
  {
   "cell_type": "code",
   "execution_count": 22,
   "metadata": {},
   "outputs": [],
   "source": [
    "#function to remove outliers\n",
    "def remove_outliers(new_df, cols):\n",
    "    for col in cols:\n",
    "        z = np.abs(stats.zscore(new_df[col]))\n",
    "        threshold = 3\n",
    "        new_df = new_df[z < threshold]\n",
    "    return new_df"
   ]
  },
  {
   "cell_type": "code",
   "execution_count": 23,
   "metadata": {},
   "outputs": [],
   "source": [
    "cols_to_remove_outliers = ['sqft_living','bedrooms','price',]\n",
    "new_df = remove_outliers(new_df, cols_to_remove_outliers)"
   ]
  },
  {
   "cell_type": "code",
   "execution_count": 24,
   "metadata": {},
   "outputs": [
    {
     "data": {
      "text/plain": [
       "<seaborn.axisgrid.FacetGrid at 0x1503f7d1130>"
      ]
     },
     "execution_count": 24,
     "metadata": {},
     "output_type": "execute_result"
    },
    {
     "data": {
      "image/png": "[encoded data removed]",
      "text/plain": [
       "<Figure size 648x216 with 1 Axes>"
      ]
     },
     "metadata": {
      "needs_background": "light"
     },
     "output_type": "display_data"
    }
   ],
   "source": [
    "sns.catplot(x='price', data=new_df, kind='box', height=3, aspect=3).set(title=\"With Outliers\")"
   ]
  },
  {
   "cell_type": "markdown",
   "metadata": {},
   "source": [
    "###  One-Hot Coding with Pandas & Avoiding Dummy Variable Traps\n",
    "- One-hot encoding is a great way to transform categorical variable in a model I will use one-hot coding to create multiple dummy varriables for each category of condition and grade variable I will use the pandas' get_dummies method in this approach"
   ]
  },
  {
   "cell_type": "code",
   "execution_count": 25,
   "metadata": {},
   "outputs": [
    {
     "data": {
      "text/plain": [
       "Average      9892\n",
       "Good         4022\n",
       "Very Good    1196\n",
       "Fair          129\n",
       "Poor           18\n",
       "Name: condition, dtype: int64"
      ]
     },
     "execution_count": 25,
     "metadata": {},
     "output_type": "execute_result"
    }
   ],
   "source": [
    "new_df['condition'].value_counts()"
   ]
  },
  {
   "cell_type": "code",
   "execution_count": 26,
   "metadata": {},
   "outputs": [
    {
     "data": {
      "text/plain": [
       "7 Average        6520\n",
       "8 Good           4408\n",
       "9 Better         1829\n",
       "6 Low Average    1482\n",
       "10 Very Good      669\n",
       "5 Fair            167\n",
       "11 Excellent      157\n",
       "4 Low              16\n",
       "12 Luxury           8\n",
       "3 Poor              1\n",
       "Name: grade, dtype: int64"
      ]
     },
     "execution_count": 26,
     "metadata": {},
     "output_type": "execute_result"
    }
   ],
   "source": [
    "new_df['grade'].value_counts()"
   ]
  },
  {
   "cell_type": "code",
   "execution_count": 27,
   "metadata": {},
   "outputs": [
    {
     "data": {
      "text/html": [
       "<div>\n",
       "<style scoped>\n",
       "    .dataframe tbody tr th:only-of-type {\n",
       "        vertical-align: middle;\n",
       "    }\n",
       "\n",
       "    .dataframe tbody tr th {\n",
       "        vertical-align: top;\n",
       "    }\n",
       "\n",
       "    .dataframe thead th {\n",
       "        text-align: right;\n",
       "    }\n",
       "</style>\n",
       "<table border=\"1\" class=\"dataframe\">\n",
       "  <thead>\n",
       "    <tr style=\"text-align: right;\">\n",
       "      <th></th>\n",
       "      <th>condition</th>\n",
       "      <th>grade</th>\n",
       "    </tr>\n",
       "    <tr>\n",
       "      <th>id</th>\n",
       "      <th></th>\n",
       "      <th></th>\n",
       "    </tr>\n",
       "  </thead>\n",
       "  <tbody>\n",
       "    <tr>\n",
       "      <th>6450302900</th>\n",
       "      <td>Good</td>\n",
       "      <td>7 Average</td>\n",
       "    </tr>\n",
       "    <tr>\n",
       "      <th>1545803390</th>\n",
       "      <td>Average</td>\n",
       "      <td>7 Average</td>\n",
       "    </tr>\n",
       "    <tr>\n",
       "      <th>6791000280</th>\n",
       "      <td>Good</td>\n",
       "      <td>7 Average</td>\n",
       "    </tr>\n",
       "    <tr>\n",
       "      <th>1072030510</th>\n",
       "      <td>Good</td>\n",
       "      <td>8 Good</td>\n",
       "    </tr>\n",
       "    <tr>\n",
       "      <th>7205000180</th>\n",
       "      <td>Good</td>\n",
       "      <td>7 Average</td>\n",
       "    </tr>\n",
       "    <tr>\n",
       "      <th>3329510850</th>\n",
       "      <td>Average</td>\n",
       "      <td>7 Average</td>\n",
       "    </tr>\n",
       "    <tr>\n",
       "      <th>5364200381</th>\n",
       "      <td>Average</td>\n",
       "      <td>8 Good</td>\n",
       "    </tr>\n",
       "    <tr>\n",
       "      <th>461004720</th>\n",
       "      <td>Good</td>\n",
       "      <td>7 Average</td>\n",
       "    </tr>\n",
       "    <tr>\n",
       "      <th>1223089083</th>\n",
       "      <td>Average</td>\n",
       "      <td>10 Very Good</td>\n",
       "    </tr>\n",
       "    <tr>\n",
       "      <th>6190500340</th>\n",
       "      <td>Average</td>\n",
       "      <td>9 Better</td>\n",
       "    </tr>\n",
       "  </tbody>\n",
       "</table>\n",
       "</div>"
      ],
      "text/plain": [
       "           condition         grade\n",
       "id                                \n",
       "6450302900      Good     7 Average\n",
       "1545803390   Average     7 Average\n",
       "6791000280      Good     7 Average\n",
       "1072030510      Good        8 Good\n",
       "7205000180      Good     7 Average\n",
       "3329510850   Average     7 Average\n",
       "5364200381   Average        8 Good\n",
       "461004720       Good     7 Average\n",
       "1223089083   Average  10 Very Good\n",
       "6190500340   Average      9 Better"
      ]
     },
     "execution_count": 27,
     "metadata": {},
     "output_type": "execute_result"
    }
   ],
   "source": [
    "# Making a copy of the categorical variables to prepare them for one-hot encoding\n",
    "copies_df = new_df[[\"condition\", \"grade\"]].copy()\n",
    "copies_df.sample(10, random_state=1)"
   ]
  },
  {
   "cell_type": "code",
   "execution_count": 28,
   "metadata": {
    "scrolled": true
   },
   "outputs": [
    {
     "data": {
      "text/html": [
       "<div>\n",
       "<style scoped>\n",
       "    .dataframe tbody tr th:only-of-type {\n",
       "        vertical-align: middle;\n",
       "    }\n",
       "\n",
       "    .dataframe tbody tr th {\n",
       "        vertical-align: top;\n",
       "    }\n",
       "\n",
       "    .dataframe thead th {\n",
       "        text-align: right;\n",
       "    }\n",
       "</style>\n",
       "<table border=\"1\" class=\"dataframe\">\n",
       "  <thead>\n",
       "    <tr style=\"text-align: right;\">\n",
       "      <th></th>\n",
       "      <th>price</th>\n",
       "      <th>bedrooms</th>\n",
       "      <th>sqft_living</th>\n",
       "      <th>sqft_lot</th>\n",
       "      <th>waterfront</th>\n",
       "      <th>view</th>\n",
       "      <th>yr_built</th>\n",
       "      <th>bathrooms</th>\n",
       "      <th>floors</th>\n",
       "      <th>yr_renovated</th>\n",
       "      <th>...</th>\n",
       "      <th>grade_10 Very Good</th>\n",
       "      <th>grade_11 Excellent</th>\n",
       "      <th>grade_12 Luxury</th>\n",
       "      <th>grade_3 Poor</th>\n",
       "      <th>grade_4 Low</th>\n",
       "      <th>grade_5 Fair</th>\n",
       "      <th>grade_6 Low Average</th>\n",
       "      <th>grade_7 Average</th>\n",
       "      <th>grade_8 Good</th>\n",
       "      <th>grade_9 Better</th>\n",
       "    </tr>\n",
       "    <tr>\n",
       "      <th>id</th>\n",
       "      <th></th>\n",
       "      <th></th>\n",
       "      <th></th>\n",
       "      <th></th>\n",
       "      <th></th>\n",
       "      <th></th>\n",
       "      <th></th>\n",
       "      <th></th>\n",
       "      <th></th>\n",
       "      <th></th>\n",
       "      <th></th>\n",
       "      <th></th>\n",
       "      <th></th>\n",
       "      <th></th>\n",
       "      <th></th>\n",
       "      <th></th>\n",
       "      <th></th>\n",
       "      <th></th>\n",
       "      <th></th>\n",
       "      <th></th>\n",
       "      <th></th>\n",
       "    </tr>\n",
       "  </thead>\n",
       "  <tbody>\n",
       "    <tr>\n",
       "      <th>6414100192</th>\n",
       "      <td>538000.0</td>\n",
       "      <td>3</td>\n",
       "      <td>2570</td>\n",
       "      <td>7242</td>\n",
       "      <td>0.0</td>\n",
       "      <td>NONE</td>\n",
       "      <td>1951</td>\n",
       "      <td>2</td>\n",
       "      <td>2</td>\n",
       "      <td>1991.0</td>\n",
       "      <td>...</td>\n",
       "      <td>0</td>\n",
       "      <td>0</td>\n",
       "      <td>0</td>\n",
       "      <td>0</td>\n",
       "      <td>0</td>\n",
       "      <td>0</td>\n",
       "      <td>0</td>\n",
       "      <td>1</td>\n",
       "      <td>0</td>\n",
       "      <td>0</td>\n",
       "    </tr>\n",
       "    <tr>\n",
       "      <th>2487200875</th>\n",
       "      <td>604000.0</td>\n",
       "      <td>4</td>\n",
       "      <td>1960</td>\n",
       "      <td>5000</td>\n",
       "      <td>0.0</td>\n",
       "      <td>NONE</td>\n",
       "      <td>1965</td>\n",
       "      <td>3</td>\n",
       "      <td>1</td>\n",
       "      <td>0.0</td>\n",
       "      <td>...</td>\n",
       "      <td>0</td>\n",
       "      <td>0</td>\n",
       "      <td>0</td>\n",
       "      <td>0</td>\n",
       "      <td>0</td>\n",
       "      <td>0</td>\n",
       "      <td>0</td>\n",
       "      <td>1</td>\n",
       "      <td>0</td>\n",
       "      <td>0</td>\n",
       "    </tr>\n",
       "    <tr>\n",
       "      <th>1954400510</th>\n",
       "      <td>510000.0</td>\n",
       "      <td>3</td>\n",
       "      <td>1680</td>\n",
       "      <td>8080</td>\n",
       "      <td>0.0</td>\n",
       "      <td>NONE</td>\n",
       "      <td>1987</td>\n",
       "      <td>2</td>\n",
       "      <td>1</td>\n",
       "      <td>0.0</td>\n",
       "      <td>...</td>\n",
       "      <td>0</td>\n",
       "      <td>0</td>\n",
       "      <td>0</td>\n",
       "      <td>0</td>\n",
       "      <td>0</td>\n",
       "      <td>0</td>\n",
       "      <td>0</td>\n",
       "      <td>0</td>\n",
       "      <td>1</td>\n",
       "      <td>0</td>\n",
       "    </tr>\n",
       "    <tr>\n",
       "      <th>1321400060</th>\n",
       "      <td>257500.0</td>\n",
       "      <td>3</td>\n",
       "      <td>1715</td>\n",
       "      <td>6819</td>\n",
       "      <td>0.0</td>\n",
       "      <td>NONE</td>\n",
       "      <td>1995</td>\n",
       "      <td>2</td>\n",
       "      <td>2</td>\n",
       "      <td>0.0</td>\n",
       "      <td>...</td>\n",
       "      <td>0</td>\n",
       "      <td>0</td>\n",
       "      <td>0</td>\n",
       "      <td>0</td>\n",
       "      <td>0</td>\n",
       "      <td>0</td>\n",
       "      <td>0</td>\n",
       "      <td>1</td>\n",
       "      <td>0</td>\n",
       "      <td>0</td>\n",
       "    </tr>\n",
       "    <tr>\n",
       "      <th>2414600126</th>\n",
       "      <td>229500.0</td>\n",
       "      <td>3</td>\n",
       "      <td>1780</td>\n",
       "      <td>7470</td>\n",
       "      <td>0.0</td>\n",
       "      <td>NONE</td>\n",
       "      <td>1960</td>\n",
       "      <td>1</td>\n",
       "      <td>1</td>\n",
       "      <td>0.0</td>\n",
       "      <td>...</td>\n",
       "      <td>0</td>\n",
       "      <td>0</td>\n",
       "      <td>0</td>\n",
       "      <td>0</td>\n",
       "      <td>0</td>\n",
       "      <td>0</td>\n",
       "      <td>0</td>\n",
       "      <td>1</td>\n",
       "      <td>0</td>\n",
       "      <td>0</td>\n",
       "    </tr>\n",
       "  </tbody>\n",
       "</table>\n",
       "<p>5 rows × 28 columns</p>\n",
       "</div>"
      ],
      "text/plain": [
       "               price  bedrooms  sqft_living  sqft_lot  waterfront  view  \\\n",
       "id                                                                        \n",
       "6414100192  538000.0         3         2570      7242         0.0  NONE   \n",
       "2487200875  604000.0         4         1960      5000         0.0  NONE   \n",
       "1954400510  510000.0         3         1680      8080         0.0  NONE   \n",
       "1321400060  257500.0         3         1715      6819         0.0  NONE   \n",
       "2414600126  229500.0         3         1780      7470         0.0  NONE   \n",
       "\n",
       "            yr_built  bathrooms  floors  yr_renovated  ...  \\\n",
       "id                                                     ...   \n",
       "6414100192      1951          2       2        1991.0  ...   \n",
       "2487200875      1965          3       1           0.0  ...   \n",
       "1954400510      1987          2       1           0.0  ...   \n",
       "1321400060      1995          2       2           0.0  ...   \n",
       "2414600126      1960          1       1           0.0  ...   \n",
       "\n",
       "            grade_10 Very Good  grade_11 Excellent grade_12 Luxury  \\\n",
       "id                                                                   \n",
       "6414100192                   0                   0               0   \n",
       "2487200875                   0                   0               0   \n",
       "1954400510                   0                   0               0   \n",
       "1321400060                   0                   0               0   \n",
       "2414600126                   0                   0               0   \n",
       "\n",
       "            grade_3 Poor  grade_4 Low  grade_5 Fair  grade_6 Low Average  \\\n",
       "id                                                                         \n",
       "6414100192             0            0             0                    0   \n",
       "2487200875             0            0             0                    0   \n",
       "1954400510             0            0             0                    0   \n",
       "1321400060             0            0             0                    0   \n",
       "2414600126             0            0             0                    0   \n",
       "\n",
       "            grade_7 Average  grade_8 Good  grade_9 Better  \n",
       "id                                                         \n",
       "6414100192                1             0               0  \n",
       "2487200875                1             0               0  \n",
       "1954400510                0             1               0  \n",
       "1321400060                1             0               0  \n",
       "2414600126                1             0               0  \n",
       "\n",
       "[5 rows x 28 columns]"
      ]
     },
     "execution_count": 28,
     "metadata": {},
     "output_type": "execute_result"
    }
   ],
   "source": [
    "pd.get_dummies(new_df, columns=[\"condition\", \"grade\"]).head()"
   ]
  },
  {
   "cell_type": "code",
   "execution_count": 29,
   "metadata": {},
   "outputs": [],
   "source": [
    "# Eliminating perfect multicollinearity\n",
    "dummies = pd.get_dummies(new_df, columns=[\"condition\", \"grade\"], drop_first = True).head()"
   ]
  },
  {
   "cell_type": "code",
   "execution_count": 30,
   "metadata": {},
   "outputs": [
    {
     "data": {
      "text/plain": [
       "Index(['price', 'bedrooms', 'sqft_living', 'sqft_lot', 'waterfront', 'view',\n",
       "       'yr_built', 'bathrooms', 'floors', 'yr_renovated', 'zipcode',\n",
       "       'grade_value', 'grade_desc', 'condition_Fair', 'condition_Good',\n",
       "       'condition_Poor', 'condition_Very Good', 'grade_11 Excellent',\n",
       "       'grade_12 Luxury', 'grade_3 Poor', 'grade_4 Low', 'grade_5 Fair',\n",
       "       'grade_6 Low Average', 'grade_7 Average', 'grade_8 Good',\n",
       "       'grade_9 Better'],\n",
       "      dtype='object')"
      ]
     },
     "execution_count": 30,
     "metadata": {},
     "output_type": "execute_result"
    }
   ],
   "source": [
    "dummies.columns"
   ]
  },
  {
   "cell_type": "markdown",
   "metadata": {},
   "source": [
    "## DATA VISUALIZATION"
   ]
  },
  {
   "cell_type": "code",
   "execution_count": 31,
   "metadata": {},
   "outputs": [
    {
     "data": {
      "image/png": "[encoded data removed]",
      "text/plain": [
       "<Figure size 1296x864 with 4 Axes>"
      ]
     },
     "metadata": {
      "needs_background": "light"
     },
     "output_type": "display_data"
    }
   ],
   "source": [
    "# Plotting Histograms for the desired features\n",
    "features = ['bedrooms', 'bathrooms', 'sqft_living', 'floors']\n",
    "plt.figure(figsize=(18, 12))\n",
    "ncols = 3\n",
    "nrows = 2\n",
    "\n",
    "# Perform univariate analysis for each feature\n",
    "for i, feature in enumerate(features):\n",
    "    plt.subplot(nrows, ncols, i+1)\n",
    "    plt.hist(df[feature], bins=20, color='skyblue', edgecolor='black')\n",
    "    plt.title('Histogram of ' + feature)\n",
    "    plt.xlabel(feature)\n",
    "    plt.ylabel('Frequency')\n",
    "\n",
    "plt.tight_layout()\n",
    "plt.show()"
   ]
  },
  {
   "cell_type": "markdown",
   "metadata": {},
   "source": [
    "- Suppose a real estate company wants to understand the distribution of key property attributes in a housing market, such as the number of bedrooms, bathrooms, square footage of living space and number of floors.\n",
    "- Therefore, in this case Histograms provide a visual representation of the frequency or count of each attribute value within certain intervals (bins). For example, the histogram for bedrooms shows how many properties have 1, 2, 3, or more bedrooms, helping the company understand the typical bedroom count in the market."
   ]
  },
  {
   "cell_type": "code",
   "execution_count": 32,
   "metadata": {},
   "outputs": [
    {
     "data": {
      "image/png": "[encoded data removed]",
      "text/plain": [
       "<Figure size 1296x864 with 4 Axes>"
      ]
     },
     "metadata": {
      "needs_background": "light"
     },
     "output_type": "display_data"
    }
   ],
   "source": [
    "# Plotting box plots for the desired features\n",
    "features = ['price','bathrooms', 'sqft_living', 'floors']\n",
    "plt.figure(figsize=(18, 12))\n",
    "ncols = 3\n",
    "nrows = 2\n",
    "\n",
    "# Perform univariate analysis for each feature\n",
    "for i, feature in enumerate(features):\n",
    "    plt.subplot(nrows, ncols, i+1)\n",
    "    sns.boxplot(y=df[feature])\n",
    "    plt.title('Box Plot of ' + feature)\n",
    "    plt.ylabel(feature)\n",
    "\n",
    "plt.tight_layout()\n",
    "plt.show()"
   ]
  },
  {
   "cell_type": "markdown",
   "metadata": {},
   "source": [
    "- A real estate investor is interested in understanding the variation in prices and key property features across different listings in a housing market.\n",
    "- Box plots summarize the distribution of numerical variables like price, bathrooms, square footage of living space, and floors. They provide insights into the central tendency (median) and spread (interquartile range) of these features. Outliers in the box plots can indicate properties with unusual characteristics or potentially higher/lower prices."
   ]
  },
  {
   "cell_type": "code",
   "execution_count": 33,
   "metadata": {},
   "outputs": [
    {
     "data": {
      "image/png": "[encoded data removed]",
      "text/plain": [
       "<Figure size 1296x864 with 5 Axes>"
      ]
     },
     "metadata": {
      "needs_background": "light"
     },
     "output_type": "display_data"
    }
   ],
   "source": [
    "# Plotting density plots for the desired features\n",
    "features = ['price','bedrooms','bathrooms', 'sqft_living', 'floors']\n",
    "plt.figure(figsize=(18, 12))\n",
    "ncols = 3\n",
    "nrows = 2\n",
    "\n",
    "# Perform univariate analysis for each feature\n",
    "for i, feature in enumerate(features):\n",
    "    plt.subplot(nrows, ncols, i+1)\n",
    "    sns.histplot(df[feature], kde=True)\n",
    "    plt.title('Density Plot of ' + feature)\n",
    "    plt.xlabel(feature)\n",
    "    plt.ylabel('Density')\n",
    "\n",
    "plt.tight_layout()\n",
    "plt.show()"
   ]
  },
  {
   "cell_type": "markdown",
   "metadata": {},
   "source": [
    "- These Density plots visualize the shape of the distribution of numerical variables like price, bedrooms, bathrooms, square footage of living space, and floors. They provide a smooth estimate of the probability density function, allowing the company to identify peaks or clusters in the data. For instance, a density plot of prices may reveal whether the majority of properties fall within a certain price range."
   ]
  },
  {
   "cell_type": "code",
   "execution_count": 34,
   "metadata": {
    "scrolled": false
   },
   "outputs": [
    {
     "data": {
      "image/png": "[encoded data removed]",
      "text/plain": [
       "<Figure size 1296x864 with 5 Axes>"
      ]
     },
     "metadata": {
      "needs_background": "light"
     },
     "output_type": "display_data"
    }
   ],
   "source": [
    "# Plotting bar plots for the desired features\n",
    "features = ['bedrooms', 'condition', 'waterfront', 'view', 'grade']\n",
    "plt.figure(figsize=(18, 12))\n",
    "ncols = 3\n",
    "nrows = 2\n",
    "\n",
    "# Perform univariate analysis for each feature\n",
    "for i, feature in enumerate(features):\n",
    "    plt.subplot(nrows, ncols, i+1)\n",
    "    sns.countplot(x=df[feature])\n",
    "    plt.title('Bar Plot of ' + feature)\n",
    "    plt.xlabel(feature)\n",
    "    plt.ylabel('Count')\n",
    "\n",
    "plt.tight_layout()\n",
    "plt.show()"
   ]
  },
  {
   "cell_type": "markdown",
   "metadata": {},
   "source": [
    "- In addition, Bar plots display the count or frequency of categories within each categorical variable. They help visualize the distribution of property attributes, such as the number of bedrooms (1, 2, 3, etc.), condition (poor, fair, good, excellent), waterfront status (yes or no), view (poor, average, good, excellent), and grade (from 1 to 13). This information can guide the brokerage firm in understanding the preferences of potential buyers and tailoring their marketing strategies accordingly."
   ]
  },
  {
   "cell_type": "markdown",
   "metadata": {},
   "source": [
    "## Bivariate Analysis"
   ]
  },
  {
   "cell_type": "markdown",
   "metadata": {},
   "source": [
    "Bivariate analysis focuses on determining the correlation between two variables. At this stage we will use a heatmap and scatterplot to check on correlation of the variables."
   ]
  },
  {
   "cell_type": "code",
   "execution_count": 35,
   "metadata": {},
   "outputs": [
    {
     "data": {
      "image/png": "[encoded data removed]",
      "text/plain": [
       "<Figure size 864x576 with 4 Axes>"
      ]
     },
     "metadata": {
      "needs_background": "light"
     },
     "output_type": "display_data"
    }
   ],
   "source": [
    "features = ['bedrooms', 'bathrooms', 'sqft_living', 'floors']\n",
    "\n",
    "# Set the figure size and grid layout\n",
    "fig, axs = plt.subplots(nrows=2,ncols=2, figsize=(12, 8))\n",
    "\n",
    "# Perform bivariate analysis for each feature\n",
    "for i, feature in enumerate(features):\n",
    "    # Calculate the row and column index\n",
    "    row = i // 2\n",
    "    col = i % 2\n",
    "    \n",
    "    # Scatter Plot\n",
    "    axs[row, col].scatter(df[feature], df['price'])\n",
    "    axs[row, col].set_xlabel(feature)\n",
    "    axs[row, col].set_ylabel('Price')\n",
    "    axs[row, col].set_title('Scatter Plot: Price vs ' + feature)\n",
    "\n",
    "# Adjust the spacing between subplots\n",
    "plt.tight_layout()\n"
   ]
  },
  {
   "cell_type": "code",
   "execution_count": 36,
   "metadata": {},
   "outputs": [],
   "source": [
    "numeric_columns = df.select_dtypes(include='number').columns\n",
    "numeric_df = df[numeric_columns]"
   ]
  },
  {
   "cell_type": "code",
   "execution_count": 37,
   "metadata": {},
   "outputs": [
    {
     "data": {
      "text/html": [
       "<div>\n",
       "<style scoped>\n",
       "    .dataframe tbody tr th:only-of-type {\n",
       "        vertical-align: middle;\n",
       "    }\n",
       "\n",
       "    .dataframe tbody tr th {\n",
       "        vertical-align: top;\n",
       "    }\n",
       "\n",
       "    .dataframe thead th {\n",
       "        text-align: right;\n",
       "    }\n",
       "</style>\n",
       "<table border=\"1\" class=\"dataframe\">\n",
       "  <thead>\n",
       "    <tr style=\"text-align: right;\">\n",
       "      <th></th>\n",
       "      <th>price</th>\n",
       "      <th>bedrooms</th>\n",
       "      <th>bathrooms</th>\n",
       "      <th>sqft_living</th>\n",
       "      <th>sqft_lot</th>\n",
       "      <th>floors</th>\n",
       "      <th>sqft_above</th>\n",
       "      <th>yr_built</th>\n",
       "      <th>yr_renovated</th>\n",
       "      <th>zipcode</th>\n",
       "      <th>lat</th>\n",
       "      <th>long</th>\n",
       "      <th>sqft_living15</th>\n",
       "      <th>sqft_lot15</th>\n",
       "    </tr>\n",
       "  </thead>\n",
       "  <tbody>\n",
       "    <tr>\n",
       "      <th>price</th>\n",
       "      <td>1.000000</td>\n",
       "      <td>0.308787</td>\n",
       "      <td>0.525906</td>\n",
       "      <td>0.701917</td>\n",
       "      <td>0.089876</td>\n",
       "      <td>0.256804</td>\n",
       "      <td>0.605368</td>\n",
       "      <td>0.053953</td>\n",
       "      <td>0.129599</td>\n",
       "      <td>-0.053402</td>\n",
       "      <td>0.306692</td>\n",
       "      <td>0.022036</td>\n",
       "      <td>0.585241</td>\n",
       "      <td>0.082845</td>\n",
       "    </tr>\n",
       "    <tr>\n",
       "      <th>bedrooms</th>\n",
       "      <td>0.308787</td>\n",
       "      <td>1.000000</td>\n",
       "      <td>0.514508</td>\n",
       "      <td>0.578212</td>\n",
       "      <td>0.032471</td>\n",
       "      <td>0.177944</td>\n",
       "      <td>0.479386</td>\n",
       "      <td>0.155670</td>\n",
       "      <td>0.018495</td>\n",
       "      <td>-0.154092</td>\n",
       "      <td>-0.009951</td>\n",
       "      <td>0.132054</td>\n",
       "      <td>0.393406</td>\n",
       "      <td>0.030690</td>\n",
       "    </tr>\n",
       "    <tr>\n",
       "      <th>bathrooms</th>\n",
       "      <td>0.525906</td>\n",
       "      <td>0.514508</td>\n",
       "      <td>1.000000</td>\n",
       "      <td>0.755758</td>\n",
       "      <td>0.088373</td>\n",
       "      <td>0.502582</td>\n",
       "      <td>0.686668</td>\n",
       "      <td>0.507173</td>\n",
       "      <td>0.051050</td>\n",
       "      <td>-0.204786</td>\n",
       "      <td>0.024280</td>\n",
       "      <td>0.224903</td>\n",
       "      <td>0.569884</td>\n",
       "      <td>0.088303</td>\n",
       "    </tr>\n",
       "    <tr>\n",
       "      <th>sqft_living</th>\n",
       "      <td>0.701917</td>\n",
       "      <td>0.578212</td>\n",
       "      <td>0.755758</td>\n",
       "      <td>1.000000</td>\n",
       "      <td>0.173453</td>\n",
       "      <td>0.353953</td>\n",
       "      <td>0.876448</td>\n",
       "      <td>0.318152</td>\n",
       "      <td>0.055660</td>\n",
       "      <td>-0.199802</td>\n",
       "      <td>0.052155</td>\n",
       "      <td>0.241214</td>\n",
       "      <td>0.756402</td>\n",
       "      <td>0.184342</td>\n",
       "    </tr>\n",
       "    <tr>\n",
       "      <th>sqft_lot</th>\n",
       "      <td>0.089876</td>\n",
       "      <td>0.032471</td>\n",
       "      <td>0.088373</td>\n",
       "      <td>0.173453</td>\n",
       "      <td>1.000000</td>\n",
       "      <td>-0.004814</td>\n",
       "      <td>0.184139</td>\n",
       "      <td>0.052946</td>\n",
       "      <td>0.004513</td>\n",
       "      <td>-0.129586</td>\n",
       "      <td>-0.085514</td>\n",
       "      <td>0.230227</td>\n",
       "      <td>0.144763</td>\n",
       "      <td>0.718204</td>\n",
       "    </tr>\n",
       "    <tr>\n",
       "      <th>floors</th>\n",
       "      <td>0.256804</td>\n",
       "      <td>0.177944</td>\n",
       "      <td>0.502582</td>\n",
       "      <td>0.353953</td>\n",
       "      <td>-0.004814</td>\n",
       "      <td>1.000000</td>\n",
       "      <td>0.523989</td>\n",
       "      <td>0.489193</td>\n",
       "      <td>0.003535</td>\n",
       "      <td>-0.059541</td>\n",
       "      <td>0.049239</td>\n",
       "      <td>0.125943</td>\n",
       "      <td>0.280102</td>\n",
       "      <td>-0.010722</td>\n",
       "    </tr>\n",
       "    <tr>\n",
       "      <th>sqft_above</th>\n",
       "      <td>0.605368</td>\n",
       "      <td>0.479386</td>\n",
       "      <td>0.686668</td>\n",
       "      <td>0.876448</td>\n",
       "      <td>0.184139</td>\n",
       "      <td>0.523989</td>\n",
       "      <td>1.000000</td>\n",
       "      <td>0.424037</td>\n",
       "      <td>0.022137</td>\n",
       "      <td>-0.261570</td>\n",
       "      <td>-0.001199</td>\n",
       "      <td>0.344842</td>\n",
       "      <td>0.731767</td>\n",
       "      <td>0.195077</td>\n",
       "    </tr>\n",
       "    <tr>\n",
       "      <th>yr_built</th>\n",
       "      <td>0.053953</td>\n",
       "      <td>0.155670</td>\n",
       "      <td>0.507173</td>\n",
       "      <td>0.318152</td>\n",
       "      <td>0.052946</td>\n",
       "      <td>0.489193</td>\n",
       "      <td>0.424037</td>\n",
       "      <td>1.000000</td>\n",
       "      <td>-0.225209</td>\n",
       "      <td>-0.347210</td>\n",
       "      <td>-0.148370</td>\n",
       "      <td>0.409993</td>\n",
       "      <td>0.326377</td>\n",
       "      <td>0.070777</td>\n",
       "    </tr>\n",
       "    <tr>\n",
       "      <th>yr_renovated</th>\n",
       "      <td>0.129599</td>\n",
       "      <td>0.018495</td>\n",
       "      <td>0.051050</td>\n",
       "      <td>0.055660</td>\n",
       "      <td>0.004513</td>\n",
       "      <td>0.003535</td>\n",
       "      <td>0.022137</td>\n",
       "      <td>-0.225209</td>\n",
       "      <td>1.000000</td>\n",
       "      <td>0.069846</td>\n",
       "      <td>0.032145</td>\n",
       "      <td>-0.072156</td>\n",
       "      <td>-0.000247</td>\n",
       "      <td>0.003852</td>\n",
       "    </tr>\n",
       "    <tr>\n",
       "      <th>zipcode</th>\n",
       "      <td>-0.053402</td>\n",
       "      <td>-0.154092</td>\n",
       "      <td>-0.204786</td>\n",
       "      <td>-0.199802</td>\n",
       "      <td>-0.129586</td>\n",
       "      <td>-0.059541</td>\n",
       "      <td>-0.261570</td>\n",
       "      <td>-0.347210</td>\n",
       "      <td>0.069846</td>\n",
       "      <td>1.000000</td>\n",
       "      <td>0.266742</td>\n",
       "      <td>-0.564259</td>\n",
       "      <td>-0.279299</td>\n",
       "      <td>-0.147294</td>\n",
       "    </tr>\n",
       "    <tr>\n",
       "      <th>lat</th>\n",
       "      <td>0.306692</td>\n",
       "      <td>-0.009951</td>\n",
       "      <td>0.024280</td>\n",
       "      <td>0.052155</td>\n",
       "      <td>-0.085514</td>\n",
       "      <td>0.049239</td>\n",
       "      <td>-0.001199</td>\n",
       "      <td>-0.148370</td>\n",
       "      <td>0.032145</td>\n",
       "      <td>0.266742</td>\n",
       "      <td>1.000000</td>\n",
       "      <td>-0.135371</td>\n",
       "      <td>0.048679</td>\n",
       "      <td>-0.086139</td>\n",
       "    </tr>\n",
       "    <tr>\n",
       "      <th>long</th>\n",
       "      <td>0.022036</td>\n",
       "      <td>0.132054</td>\n",
       "      <td>0.224903</td>\n",
       "      <td>0.241214</td>\n",
       "      <td>0.230227</td>\n",
       "      <td>0.125943</td>\n",
       "      <td>0.344842</td>\n",
       "      <td>0.409993</td>\n",
       "      <td>-0.072156</td>\n",
       "      <td>-0.564259</td>\n",
       "      <td>-0.135371</td>\n",
       "      <td>1.000000</td>\n",
       "      <td>0.335626</td>\n",
       "      <td>0.255586</td>\n",
       "    </tr>\n",
       "    <tr>\n",
       "      <th>sqft_living15</th>\n",
       "      <td>0.585241</td>\n",
       "      <td>0.393406</td>\n",
       "      <td>0.569884</td>\n",
       "      <td>0.756402</td>\n",
       "      <td>0.144763</td>\n",
       "      <td>0.280102</td>\n",
       "      <td>0.731767</td>\n",
       "      <td>0.326377</td>\n",
       "      <td>-0.000247</td>\n",
       "      <td>-0.279299</td>\n",
       "      <td>0.048679</td>\n",
       "      <td>0.335626</td>\n",
       "      <td>1.000000</td>\n",
       "      <td>0.183515</td>\n",
       "    </tr>\n",
       "    <tr>\n",
       "      <th>sqft_lot15</th>\n",
       "      <td>0.082845</td>\n",
       "      <td>0.030690</td>\n",
       "      <td>0.088303</td>\n",
       "      <td>0.184342</td>\n",
       "      <td>0.718204</td>\n",
       "      <td>-0.010722</td>\n",
       "      <td>0.195077</td>\n",
       "      <td>0.070777</td>\n",
       "      <td>0.003852</td>\n",
       "      <td>-0.147294</td>\n",
       "      <td>-0.086139</td>\n",
       "      <td>0.255586</td>\n",
       "      <td>0.183515</td>\n",
       "      <td>1.000000</td>\n",
       "    </tr>\n",
       "  </tbody>\n",
       "</table>\n",
       "</div>"
      ],
      "text/plain": [
       "                  price  bedrooms  bathrooms  sqft_living  sqft_lot    floors  \\\n",
       "price          1.000000  0.308787   0.525906     0.701917  0.089876  0.256804   \n",
       "bedrooms       0.308787  1.000000   0.514508     0.578212  0.032471  0.177944   \n",
       "bathrooms      0.525906  0.514508   1.000000     0.755758  0.088373  0.502582   \n",
       "sqft_living    0.701917  0.578212   0.755758     1.000000  0.173453  0.353953   \n",
       "sqft_lot       0.089876  0.032471   0.088373     0.173453  1.000000 -0.004814   \n",
       "floors         0.256804  0.177944   0.502582     0.353953 -0.004814  1.000000   \n",
       "sqft_above     0.605368  0.479386   0.686668     0.876448  0.184139  0.523989   \n",
       "yr_built       0.053953  0.155670   0.507173     0.318152  0.052946  0.489193   \n",
       "yr_renovated   0.129599  0.018495   0.051050     0.055660  0.004513  0.003535   \n",
       "zipcode       -0.053402 -0.154092  -0.204786    -0.199802 -0.129586 -0.059541   \n",
       "lat            0.306692 -0.009951   0.024280     0.052155 -0.085514  0.049239   \n",
       "long           0.022036  0.132054   0.224903     0.241214  0.230227  0.125943   \n",
       "sqft_living15  0.585241  0.393406   0.569884     0.756402  0.144763  0.280102   \n",
       "sqft_lot15     0.082845  0.030690   0.088303     0.184342  0.718204 -0.010722   \n",
       "\n",
       "               sqft_above  yr_built  yr_renovated   zipcode       lat  \\\n",
       "price            0.605368  0.053953      0.129599 -0.053402  0.306692   \n",
       "bedrooms         0.479386  0.155670      0.018495 -0.154092 -0.009951   \n",
       "bathrooms        0.686668  0.507173      0.051050 -0.204786  0.024280   \n",
       "sqft_living      0.876448  0.318152      0.055660 -0.199802  0.052155   \n",
       "sqft_lot         0.184139  0.052946      0.004513 -0.129586 -0.085514   \n",
       "floors           0.523989  0.489193      0.003535 -0.059541  0.049239   \n",
       "sqft_above       1.000000  0.424037      0.022137 -0.261570 -0.001199   \n",
       "yr_built         0.424037  1.000000     -0.225209 -0.347210 -0.148370   \n",
       "yr_renovated     0.022137 -0.225209      1.000000  0.069846  0.032145   \n",
       "zipcode         -0.261570 -0.347210      0.069846  1.000000  0.266742   \n",
       "lat             -0.001199 -0.148370      0.032145  0.266742  1.000000   \n",
       "long             0.344842  0.409993     -0.072156 -0.564259 -0.135371   \n",
       "sqft_living15    0.731767  0.326377     -0.000247 -0.279299  0.048679   \n",
       "sqft_lot15       0.195077  0.070777      0.003852 -0.147294 -0.086139   \n",
       "\n",
       "                   long  sqft_living15  sqft_lot15  \n",
       "price          0.022036       0.585241    0.082845  \n",
       "bedrooms       0.132054       0.393406    0.030690  \n",
       "bathrooms      0.224903       0.569884    0.088303  \n",
       "sqft_living    0.241214       0.756402    0.184342  \n",
       "sqft_lot       0.230227       0.144763    0.718204  \n",
       "floors         0.125943       0.280102   -0.010722  \n",
       "sqft_above     0.344842       0.731767    0.195077  \n",
       "yr_built       0.409993       0.326377    0.070777  \n",
       "yr_renovated  -0.072156      -0.000247    0.003852  \n",
       "zipcode       -0.564259      -0.279299   -0.147294  \n",
       "lat           -0.135371       0.048679   -0.086139  \n",
       "long           1.000000       0.335626    0.255586  \n",
       "sqft_living15  0.335626       1.000000    0.183515  \n",
       "sqft_lot15     0.255586       0.183515    1.000000  "
      ]
     },
     "execution_count": 37,
     "metadata": {},
     "output_type": "execute_result"
    }
   ],
   "source": [
    "# Computing the correlation matrix to check for Linearity\n",
    "numeric_df.corr()\n"
   ]
  },
  {
   "cell_type": "code",
   "execution_count": 38,
   "metadata": {
    "scrolled": false
   },
   "outputs": [
    {
     "data": {
      "image/png": "[encoded data removed]",
      "text/plain": [
       "<Figure size 720x576 with 2 Axes>"
      ]
     },
     "metadata": {
      "needs_background": "light"
     },
     "output_type": "display_data"
    }
   ],
   "source": [
    "# Creating a heatmap using seaborn\n",
    "\n",
    "\n",
    "corr_matrix = numeric_df.corr()\n",
    "fig, ax = plt.subplots(figsize=(10, 8))\n",
    "sns.heatmap(corr_matrix, annot=True, cmap='coolwarm', fmt=\".2f\", ax=ax)\n",
    "ax.set_title('Correlation Heatmap');\n"
   ]
  },
  {
   "cell_type": "markdown",
   "metadata": {},
   "source": [
    "- The heatmap visualization displays the correlation matrix of numerical features, helping identify relationships between variables. Strong positive correlations (close to 1) suggest variables tend to increase together, while strong negative correlations (close to -1) indicate an inverse relationship. Weak correlations (close to 0) suggest no linear relationship. This aids in understanding factors influencing property prices and refining predictive models for better decision-making.\n",
    "\n"
   ]
  },
  {
   "cell_type": "markdown",
   "metadata": {},
   "source": [
    "# REGRESSION ANALYSIS"
   ]
  },
  {
   "cell_type": "markdown",
   "metadata": {},
   "source": [
    "### Train/Test Split\n",
    "Conduct a Train/Test split to our dataset to ensure the set of values to be used maintain oneness and use unseen data to prevent noise etc"
   ]
  },
  {
   "cell_type": "code",
   "execution_count": 39,
   "metadata": {},
   "outputs": [],
   "source": [
    "#Define features to be used\n",
    "features = [\"bedrooms\", \"bathrooms\", \"sqft_living\",\"sqft_living15\", \"sqft_lot\",\"floors\", \"sqft_above\",\"yr_built\", \"yr_renovated\", \"zipcode\"]\n",
    "target = \"price\""
   ]
  },
  {
   "cell_type": "code",
   "execution_count": 40,
   "metadata": {},
   "outputs": [],
   "source": [
    "x = numeric_df[features]\n",
    "y = numeric_df[target]\n",
    "\n",
    "#perfom train/test split with 80:20 ratio\n",
    "x_train, x_test, y_train, y_test = train_test_split(x,y, test_size=0.2, random_state=42)"
   ]
  },
  {
   "cell_type": "code",
   "execution_count": 41,
   "metadata": {},
   "outputs": [
    {
     "name": "stdout",
     "output_type": "stream",
     "text": [
      "(17277, 10) (17277,)\n",
      "(4320, 10) (4320,)\n"
     ]
    }
   ],
   "source": [
    "#shape of our split data\n",
    "print(x_train.shape, y_train.shape)\n",
    "print(x_test.shape, y_test.shape)\n"
   ]
  },
  {
   "cell_type": "code",
   "execution_count": 42,
   "metadata": {},
   "outputs": [
    {
     "name": "stdout",
     "output_type": "stream",
     "text": [
      "Training set - Features:\n",
      "            bedrooms  bathrooms  sqft_living  sqft_living15  sqft_lot  floors  \\\n",
      "id                                                                              \n",
      "9834201100         4       2.00         1440           1300      4855     2.0   \n",
      "7795810110         3       1.75         1430           1310      9857     1.0   \n",
      "1853081250         4       2.75         3120           3200      5000     2.0   \n",
      "2558630350         4       2.50         2060           1760      6958     1.0   \n",
      "3362401000         3       2.00         2500           1550      4080     1.5   \n",
      "\n",
      "            sqft_above  yr_built  yr_renovated  zipcode  \n",
      "id                                                       \n",
      "9834201100        1440      1972           0.0    98144  \n",
      "7795810110        1140      1980           0.0    98045  \n",
      "1853081250        3120      2010           0.0    98074  \n",
      "2558630350        1220      1974           NaN    98034  \n",
      "3362401000        1680      1922           0.0    98103  \n",
      "\n",
      "Training set - Target:\n",
      "id\n",
      "9834201100    332500.0\n",
      "7795810110    390000.0\n",
      "1853081250    800000.0\n",
      "2558630350    462000.0\n",
      "3362401000    695000.0\n",
      "Name: price, dtype: float64\n",
      "\n",
      "Testing set - Features:\n",
      "            bedrooms  bathrooms  sqft_living  sqft_living15  sqft_lot  floors  \\\n",
      "id                                                                              \n",
      "6303401050         3       0.75          850            850      8573     1.0   \n",
      "1995200200         3       1.00         1510           1510      6083     1.0   \n",
      "1423089118         4       2.25         1790           2060     42000     1.0   \n",
      "9349900110         2       1.50         1140           1500      2500     1.0   \n",
      "455000395          3       1.00         1500           1640      3920     1.0   \n",
      "\n",
      "            sqft_above  yr_built  yr_renovated  zipcode  \n",
      "id                                                       \n",
      "6303401050         600      1945           0.0    98146  \n",
      "1995200200         860      1940           0.0    98115  \n",
      "1423089118        1170      1983           0.0    98045  \n",
      "9349900110         630      1988           NaN    98106  \n",
      "455000395         1000      1947           0.0    98107  \n",
      "\n",
      "Testing set - Target:\n",
      "id\n",
      "6303401050    132500.0\n",
      "1995200200    415000.0\n",
      "1423089118    494000.0\n",
      "9349900110    355000.0\n",
      "455000395     606000.0\n",
      "Name: price, dtype: float64\n"
     ]
    }
   ],
   "source": [
    "#explore our data\n",
    "print(\"Training set - Features:\")\n",
    "print(x_train.head())\n",
    "print(\"\\nTraining set - Target:\")\n",
    "print(y_train.head())\n",
    "print(\"\\nTesting set - Features:\")\n",
    "print(x_test.head())\n",
    "print(\"\\nTesting set - Target:\")\n",
    "print(y_test.head())"
   ]
  },
  {
   "cell_type": "code",
   "execution_count": 43,
   "metadata": {},
   "outputs": [
    {
     "data": {
      "text/plain": [
       "price            1.000000\n",
       "sqft_living      0.701917\n",
       "sqft_above       0.605368\n",
       "sqft_living15    0.585241\n",
       "bathrooms        0.525906\n",
       "bedrooms         0.308787\n",
       "lat              0.306692\n",
       "floors           0.256804\n",
       "yr_renovated     0.129599\n",
       "sqft_lot         0.089876\n",
       "sqft_lot15       0.082845\n",
       "yr_built         0.053953\n",
       "zipcode          0.053402\n",
       "long             0.022036\n",
       "Name: price, dtype: float64"
      ]
     },
     "execution_count": 43,
     "metadata": {},
     "output_type": "execute_result"
    }
   ],
   "source": [
    "#Find out which columns have highest correlation to the price to determine which features best to use for our models as a higher correlation means the target is affected by increase/decrease of the other\n",
    "correlation = numeric_df.corr()[\"price\"].abs().sort_values(ascending=False)\n",
    "correlation"
   ]
  },
  {
   "cell_type": "markdown",
   "metadata": {},
   "source": [
    "From our results, we can deduce other than price(which is the target), sqft_living and sqft_above have the highest correlation efficients to the target hence very suitable to use in our SLR models"
   ]
  },
  {
   "cell_type": "markdown",
   "metadata": {},
   "source": [
    "## SIMPLE LINEAR REGRESSION"
   ]
  },
  {
   "cell_type": "markdown",
   "metadata": {},
   "source": [
    "### Model 1 (SLR)\n",
    "### Sqft_ Living Area Impact on Property Value"
   ]
  },
  {
   "cell_type": "code",
   "execution_count": 44,
   "metadata": {},
   "outputs": [
    {
     "name": "stdout",
     "output_type": "stream",
     "text": [
      "                            OLS Regression Results                            \n",
      "==============================================================================\n",
      "Dep. Variable:                  price   R-squared:                       0.417\n",
      "Model:                            OLS   Adj. R-squared:                  0.417\n",
      "Method:                 Least Squares   F-statistic:                 1.091e+04\n",
      "Date:                Tue, 30 Apr 2024   Prob (F-statistic):               0.00\n",
      "Time:                        14:50:30   Log-Likelihood:            -2.0664e+05\n",
      "No. Observations:               15257   AIC:                         4.133e+05\n",
      "Df Residuals:                   15255   BIC:                         4.133e+05\n",
      "Df Model:                           1                                         \n",
      "Covariance Type:            nonrobust                                         \n",
      "===============================================================================\n",
      "                  coef    std err          t      P>|t|      [0.025      0.975]\n",
      "-------------------------------------------------------------------------------\n",
      "const        9.837e+04   4097.802     24.005      0.000    9.03e+04    1.06e+05\n",
      "sqft_living   198.8749      1.904    104.461      0.000     195.143     202.607\n",
      "==============================================================================\n",
      "Omnibus:                     2005.839   Durbin-Watson:                   1.976\n",
      "Prob(Omnibus):                  0.000   Jarque-Bera (JB):             3530.778\n",
      "Skew:                           0.873   Prob(JB):                         0.00\n",
      "Kurtosis:                       4.582   Cond. No.                     5.91e+03\n",
      "==============================================================================\n",
      "\n",
      "Notes:\n",
      "[1] Standard Errors assume that the covariance matrix of the errors is correctly specified.\n",
      "[2] The condition number is large, 5.91e+03. This might indicate that there are\n",
      "strong multicollinearity or other numerical problems.\n"
     ]
    }
   ],
   "source": [
    "X_base = new_df[['sqft_living']]\n",
    "y = new_df['price']\n",
    "# Library to be used in building the model\n",
    "import statsmodels.api as sm\n",
    "\n",
    "# Building the model\n",
    "baseline_model = sm.OLS(y, sm.add_constant(X_base))\n",
    "\n",
    "# fitting the model\n",
    "baseline_results = baseline_model.fit()\n",
    "\n",
    "# viewing the summary of the model\n",
    "print(baseline_results.summary())\n"
   ]
  },
  {
   "cell_type": "markdown",
   "metadata": {},
   "source": [
    "### Overall Interpretation and Analysis of Model 1(SLR)"
   ]
  },
  {
   "cell_type": "markdown",
   "metadata": {},
   "source": [
    "From this Simple Linear regression model,where wee focused on Square foot living and how it impacts property value we can deduce;\n",
    "* This model explains approximately 49.2% of variance in property value as shown by the R-squared value\n",
    "* The model as a whole is statsistically significant as shown by a relatively Large F-stat and corresponding small P-value\n",
    "* Coefficient for sqft_living indicates for an additional square foot, the price of the property increases by approximately $282.20\n",
    "Overall this SLR model suggests that sqft_living(areao occupied by property) is a significant predictor for property value, however there is room for improvement."
   ]
  },
  {
   "cell_type": "code",
   "execution_count": 45,
   "metadata": {},
   "outputs": [
    {
     "data": {
      "image/png": "[encoded data removed]",
      "text/plain": [
       "<Figure size 432x288 with 1 Axes>"
      ]
     },
     "metadata": {
      "needs_background": "light"
     },
     "output_type": "display_data"
    }
   ],
   "source": [
    "# Get the predicted values from the model\n",
    "y_pred = baseline_results.predict(sm.add_constant(X_base))\n",
    "\n",
    "# Calculate the residuals\n",
    "residuals = y - y_pred\n",
    "\n",
    "# Plot the residuals against the predicted values\n",
    "plt.scatter(y_pred, residuals)\n",
    "plt.title('Residual Plot')\n",
    "plt.xlabel('Predicted Values')\n",
    "plt.ylabel('Residuals')\n",
    "plt.axhline(y=0, color='r', linestyle='-')  # Add horizontal line at y=0\n",
    "plt.show()"
   ]
  },
  {
   "cell_type": "markdown",
   "metadata": {},
   "source": [
    "## MULTIPLE LINEAR REGRESSION"
   ]
  },
  {
   "cell_type": "markdown",
   "metadata": {},
   "source": [
    "### MODEL 1 (MLR)\n",
    "#### Bedrooms, Sqft_living,sqft_lot,yr_built,yr_renovated,bathrooms and floors impact on property value"
   ]
  },
  {
   "cell_type": "code",
   "execution_count": 46,
   "metadata": {},
   "outputs": [
    {
     "name": "stdout",
     "output_type": "stream",
     "text": [
      "                            OLS Regression Results                            \n",
      "==============================================================================\n",
      "Dep. Variable:                  price   R-squared:                       0.488\n",
      "Model:                            OLS   Adj. R-squared:                  0.488\n",
      "Method:                 Least Squares   F-statistic:                     2077.\n",
      "Date:                Tue, 30 Apr 2024   Prob (F-statistic):               0.00\n",
      "Time:                        14:50:31   Log-Likelihood:            -2.0564e+05\n",
      "No. Observations:               15257   AIC:                         4.113e+05\n",
      "Df Residuals:                   15249   BIC:                         4.114e+05\n",
      "Df Model:                           7                                         \n",
      "Covariance Type:            nonrobust                                         \n",
      "================================================================================\n",
      "                   coef    std err          t      P>|t|      [0.025      0.975]\n",
      "--------------------------------------------------------------------------------\n",
      "const         4.976e+06   1.23e+05     40.499      0.000    4.73e+06    5.22e+06\n",
      "bedrooms         -4e+04   2076.401    -19.263      0.000   -4.41e+04   -3.59e+04\n",
      "bathrooms     3.665e+04   3015.448     12.154      0.000    3.07e+04    4.26e+04\n",
      "sqft_living    222.6117      2.693     82.655      0.000     217.333     227.891\n",
      "sqft_lot        -0.0790      0.036     -2.210      0.027      -0.149      -0.009\n",
      "floors        6.425e+04   3360.629     19.119      0.000    5.77e+04    7.08e+04\n",
      "yr_built     -2509.2594     63.924    -39.254      0.000   -2634.557   -2383.961\n",
      "yr_renovated    10.6696      3.793      2.813      0.005       3.234      18.105\n",
      "==============================================================================\n",
      "Omnibus:                     1707.006   Durbin-Watson:                   1.974\n",
      "Prob(Omnibus):                  0.000   Jarque-Bera (JB):             3256.884\n",
      "Skew:                           0.735   Prob(JB):                         0.00\n",
      "Kurtosis:                       4.721   Cond. No.                     3.73e+06\n",
      "==============================================================================\n",
      "\n",
      "Notes:\n",
      "[1] Standard Errors assume that the covariance matrix of the errors is correctly specified.\n",
      "[2] The condition number is large, 3.73e+06. This might indicate that there are\n",
      "strong multicollinearity or other numerical problems.\n"
     ]
    }
   ],
   "source": [
    "X_model1 = new_df[['bedrooms', 'bathrooms', 'sqft_living', 'sqft_lot','floors', 'yr_built', 'yr_renovated']]\n",
    "y = new_df[['price']]\n",
    "\n",
    "model1 = sm.OLS(y, sm.add_constant(X_model1))\n",
    "results1 = model1.fit()\n",
    "print(results1.summary())"
   ]
  },
  {
   "cell_type": "markdown",
   "metadata": {},
   "source": [
    "### Overall Interpretation and Analysis of Model 1(MLR)"
   ]
  },
  {
   "cell_type": "markdown",
   "metadata": {},
   "source": [
    "- The regression model examines how various features such as bedrooms, bathrooms, square footage of living area, square footage of the lot, number of floors, year built, and year renovated impact property prices. \n",
    "- The model explains approximately 48.8% of the variability in prices. \n",
    "- All features are statistically significant predictors of price, with each additional square foot of living area contributing approximately $222.61 to the property's value. \n",
    "- However, potential issues with multicollinearity and non-normality of residuals may exist."
   ]
  },
  {
   "cell_type": "code",
   "execution_count": 47,
   "metadata": {},
   "outputs": [
    {
     "data": {
      "image/png": "[encoded data removed]",
      "text/plain": [
       "<Figure size 432x288 with 1 Axes>"
      ]
     },
     "metadata": {
      "needs_background": "light"
     },
     "output_type": "display_data"
    }
   ],
   "source": [
    "# Get the predicted values from the model\n",
    "y_pred_model1 = results1.predict(sm.add_constant(X_model1))\n",
    "\n",
    "# Calculate the residuals\n",
    "residuals_model1 = y.values.flatten() - y_pred_model1\n",
    "\n",
    "# Plot the residuals against the predicted values\n",
    "plt.scatter(y_pred_model1, residuals_model1)\n",
    "plt.title('Residual Plot for Model 3')\n",
    "plt.xlabel('Predicted Values')\n",
    "plt.ylabel('Residuals')\n",
    "plt.axhline(y=0, color='r', linestyle='-')  # Add horizontal line at y=0\n",
    "plt.show()\n"
   ]
  },
  {
   "cell_type": "code",
   "execution_count": 48,
   "metadata": {
    "scrolled": true
   },
   "outputs": [
    {
     "name": "stdout",
     "output_type": "stream",
     "text": [
      "Root Mean Squared Error (RMSE) for Model 3: 172777.4296484916\n"
     ]
    }
   ],
   "source": [
    "# Calculate RMSE\n",
    "mse_model1 = mean_squared_error(y, y_pred_model1)\n",
    "rmse_model1 = np.sqrt(mse_model1)\n",
    "print(\"Root Mean Squared Error (RMSE) for Model 3:\", rmse_model1)"
   ]
  },
  {
   "cell_type": "markdown",
   "metadata": {},
   "source": [
    "- The RMSE (Root Mean Square Error) for Model 3 is approximatel 172,777 . This value represents the average difference between the actual property prices and the prices predicted by the model. \n",
    "\n",
    "- A lower RMSE indicates that the model's predictions are closer to the actual values, suggesting better overall performance. However, the interpretation of RMSE should be considered in the context of the data and the problem domain. In this case, with an RMSE of 172,777, the model's predictions may still have a considerable amount of error compared to the actual property prices.\n",
    "\n",
    "- Therefore, while Model 3 explains around 48.8% of the variance in property prices based on the included features (Bedrooms, Sqft_living,sqft_lot,yr_built,yr_renovated,bathrooms and floors ), the RMSE suggests that there is still room for improvement in predicting property values accurately."
   ]
  },
  {
   "cell_type": "markdown",
   "metadata": {},
   "source": [
    "### MODEL 2(MLR)\n",
    "### Sqft_living , Sqft_lot,waterfront,floors,yr_built,yr_renovated,bedrooms and Bathrooms impact on Property Value"
   ]
  },
  {
   "cell_type": "code",
   "execution_count": 49,
   "metadata": {},
   "outputs": [
    {
     "name": "stdout",
     "output_type": "stream",
     "text": [
      "                            OLS Regression Results                            \n",
      "==============================================================================\n",
      "Dep. Variable:                  price   R-squared:                       0.496\n",
      "Model:                            OLS   Adj. R-squared:                  0.496\n",
      "Method:                 Least Squares   F-statistic:                     1251.\n",
      "Date:                Tue, 30 Apr 2024   Prob (F-statistic):               0.00\n",
      "Time:                        14:50:32   Log-Likelihood:            -2.0552e+05\n",
      "No. Observations:               15257   AIC:                         4.111e+05\n",
      "Df Residuals:                   15244   BIC:                         4.112e+05\n",
      "Df Model:                          12                                         \n",
      "Covariance Type:            nonrobust                                         \n",
      "======================================================================================\n",
      "                         coef    std err          t      P>|t|      [0.025      0.975]\n",
      "--------------------------------------------------------------------------------------\n",
      "const               4.724e+06   1.29e+05     36.576      0.000    4.47e+06    4.98e+06\n",
      "bedrooms           -3.925e+04   2065.619    -19.003      0.000   -4.33e+04   -3.52e+04\n",
      "bathrooms           3.553e+04   3002.580     11.834      0.000    2.96e+04    4.14e+04\n",
      "sqft_living          220.5836      2.677     82.388      0.000     215.336     225.832\n",
      "sqft_lot              -0.0758      0.036     -2.132      0.033      -0.146      -0.006\n",
      "waterfront          2.761e+05    2.2e+04     12.565      0.000    2.33e+05    3.19e+05\n",
      "floors              6.539e+04   3367.627     19.416      0.000    5.88e+04     7.2e+04\n",
      "yr_built           -2383.2748     66.848    -35.652      0.000   -2514.304   -2252.245\n",
      "yr_renovated           9.9668      3.831      2.602      0.009       2.458      17.475\n",
      "condition_Fair     -7.238e+04   1.53e+04     -4.719      0.000   -1.02e+05   -4.23e+04\n",
      "condition_Good      5550.4479   3475.601      1.597      0.110   -1262.146    1.24e+04\n",
      "condition_Poor     -1.076e+05   4.06e+04     -2.651      0.008   -1.87e+05    -2.8e+04\n",
      "condition_VeryGood  3.972e+04   5607.997      7.083      0.000    2.87e+04    5.07e+04\n",
      "==============================================================================\n",
      "Omnibus:                     1627.249   Durbin-Watson:                   1.972\n",
      "Prob(Omnibus):                  0.000   Jarque-Bera (JB):             3048.904\n",
      "Skew:                           0.713   Prob(JB):                         0.00\n",
      "Kurtosis:                       4.663   Cond. No.                     3.96e+06\n",
      "==============================================================================\n",
      "\n",
      "Notes:\n",
      "[1] Standard Errors assume that the covariance matrix of the errors is correctly specified.\n",
      "[2] The condition number is large, 3.96e+06. This might indicate that there are\n",
      "strong multicollinearity or other numerical problems.\n"
     ]
    }
   ],
   "source": [
    "X_model2 = new_df[['bedrooms', 'bathrooms', 'sqft_living', 'sqft_lot', 'waterfront' ,'floors','yr_built', 'yr_renovated','condition']]\n",
    "X_one = pd.get_dummies(X_model2, columns=['condition'], drop_first=True)\n",
    "X_one.columns = X_one.columns.str.replace(' ', '')\n",
    "model2 = sm.OLS(y, sm.add_constant(X_one))\n",
    "results2 = model2.fit()\n",
    "print(results2.summary())"
   ]
  },
  {
   "cell_type": "markdown",
   "metadata": {},
   "source": [
    "### Overall Interpretation and Analysis of Model 2(MLR)"
   ]
  },
  {
   "cell_type": "markdown",
   "metadata": {},
   "source": [
    "From this Multi Linear Regression model, we focused on Sqft_living,Sqft_lot,waterfront,floors,yr_built,yr_renovated,bedrooms and Bathroomsimpact on Property Value and we can deduce;\n",
    "\n",
    "* This model explains approximately 49.6% variance in prediction for property value from the R-squared value\n",
    "\n",
    "* The model is statistically significant as shown by our F-stat 1251 and corresponding P-value close to zero\n",
    "\n",
    "Overally this model shows a moderate predictive power.However in this case the 'bathrooms' variable may not be statistically significant in house prices for this model.Further investication and refining proves this model has room for improvement.\n"
   ]
  },
  {
   "cell_type": "code",
   "execution_count": 50,
   "metadata": {},
   "outputs": [
    {
     "data": {
      "image/png": "[encoded data removed]",
      "text/plain": [
       "<Figure size 432x288 with 1 Axes>"
      ]
     },
     "metadata": {
      "needs_background": "light"
     },
     "output_type": "display_data"
    }
   ],
   "source": [
    "# Get the predicted values from the model\n",
    "y_pred_model2 = results2.predict(sm.add_constant(X_one))\n",
    "\n",
    "# Calculate the residuals\n",
    "residuals_model2 = y.values.flatten() - y_pred_model2\n",
    "\n",
    "# Plot the residuals against the predicted values\n",
    "plt.scatter(y_pred_model2, residuals_model2)\n",
    "plt.title('Residual Plot for Model 2')\n",
    "plt.xlabel('Predicted Values')\n",
    "plt.ylabel('Residuals')\n",
    "plt.axhline(y=0, color='r', linestyle='-')  # Add horizontal line at y=0\n",
    "plt.show()"
   ]
  },
  {
   "cell_type": "code",
   "execution_count": 51,
   "metadata": {},
   "outputs": [
    {
     "name": "stdout",
     "output_type": "stream",
     "text": [
      "Root Mean Squared Error (RMSE) for Model 2: 171405.68536404817\n"
     ]
    }
   ],
   "source": [
    "# Calculate RMSE\n",
    "mse_model2 = mean_squared_error(y, y_pred_model2)\n",
    "rmse_model2 = np.sqrt(mse_model2)\n",
    "print(\"Root Mean Squared Error (RMSE) for Model 2:\", rmse_model2)\n"
   ]
  },
  {
   "cell_type": "markdown",
   "metadata": {},
   "source": [
    "- Model 2 considers the impact of various factors such as bedrooms, bathrooms, square footage of living area, square footage of the lot, waterfront, floors, year built, year renovated, and property condition on property prices.\n",
    "\n",
    "- The model explains approximately 49.6% of the variability in prices. Each additional square foot of living area contributes approximately $220.58 to the property's value.\n",
    "\n",
    "- However, there may be issues with multicollinearity or other numerical problems due to the large condition number. The Root Mean Squared Error (RMSE) for Model 2 is approximately 171,405, indicating the average difference between the observed and predicted values of property prices."
   ]
  },
  {
   "cell_type": "markdown",
   "metadata": {},
   "source": [
    "### MODEL 3(MLR)\n",
    "### Sqft_living , Sqft_lot,waterfront,floors,yr_built,yr_renovated,bedrooms and Bathrooms,grade impact on Property Value"
   ]
  },
  {
   "cell_type": "code",
   "execution_count": 52,
   "metadata": {},
   "outputs": [
    {
     "name": "stdout",
     "output_type": "stream",
     "text": [
      "                            OLS Regression Results                            \n",
      "==============================================================================\n",
      "Dep. Variable:                  price   R-squared:                       0.597\n",
      "Model:                            OLS   Adj. R-squared:                  0.596\n",
      "Method:                 Least Squares   F-statistic:                     1327.\n",
      "Date:                Tue, 30 Apr 2024   Prob (F-statistic):               0.00\n",
      "Time:                        14:50:33   Log-Likelihood:            -2.0382e+05\n",
      "No. Observations:               15257   AIC:                         4.077e+05\n",
      "Df Residuals:                   15239   BIC:                         4.078e+05\n",
      "Df Model:                          17                                         \n",
      "Covariance Type:            nonrobust                                         \n",
      "=====================================================================================\n",
      "                        coef    std err          t      P>|t|      [0.025      0.975]\n",
      "-------------------------------------------------------------------------------------\n",
      "const              6.694e+06   1.14e+05     58.542      0.000    6.47e+06    6.92e+06\n",
      "bedrooms          -1.827e+04   1902.362     -9.605      0.000    -2.2e+04   -1.45e+04\n",
      "bathrooms          3.245e+04   2681.788     12.100      0.000    2.72e+04    3.77e+04\n",
      "sqft_living         110.5722      2.989     36.993      0.000     104.713     116.431\n",
      "waterfront         2.761e+05   1.97e+04     14.043      0.000    2.38e+05    3.15e+05\n",
      "sqft_lot             -0.0547      0.032     -1.718      0.086      -0.117       0.008\n",
      "floors             3.055e+04   3055.658      9.999      0.000    2.46e+04    3.65e+04\n",
      "yr_built          -3133.6560     58.594    -53.481      0.000   -3248.507   -3018.805\n",
      "yr_renovated          4.8396      3.385      1.430      0.153      -1.796      11.475\n",
      "grade_11Excellent  1.284e+05   1.37e+04      9.396      0.000    1.02e+05    1.55e+05\n",
      "grade_12Luxury     2.623e+05   5.46e+04      4.803      0.000    1.55e+05    3.69e+05\n",
      "grade_3Poor       -4.842e+05   1.54e+05     -3.150      0.002   -7.86e+05   -1.83e+05\n",
      "grade_4Low        -5.133e+05   3.94e+04    -13.026      0.000   -5.91e+05   -4.36e+05\n",
      "grade_5Fair       -5.101e+05   1.47e+04    -34.724      0.000   -5.39e+05   -4.81e+05\n",
      "grade_6LowAverage -4.554e+05   9199.511    -49.501      0.000   -4.73e+05   -4.37e+05\n",
      "grade_7Average    -3.525e+05   7672.841    -45.943      0.000   -3.68e+05   -3.37e+05\n",
      "grade_8Good       -2.408e+05   7056.012    -34.133      0.000   -2.55e+05   -2.27e+05\n",
      "grade_9Better      -9.87e+04   7083.650    -13.933      0.000   -1.13e+05   -8.48e+04\n",
      "==============================================================================\n",
      "Omnibus:                     1685.781   Durbin-Watson:                   1.972\n",
      "Prob(Omnibus):                  0.000   Jarque-Bera (JB):             3775.007\n",
      "Skew:                           0.677   Prob(JB):                         0.00\n",
      "Kurtosis:                       5.027   Cond. No.                     5.27e+06\n",
      "==============================================================================\n",
      "\n",
      "Notes:\n",
      "[1] Standard Errors assume that the covariance matrix of the errors is correctly specified.\n",
      "[2] The condition number is large, 5.27e+06. This might indicate that there are\n",
      "strong multicollinearity or other numerical problems.\n"
     ]
    }
   ],
   "source": [
    "X_model3 = new_df[['bedrooms', 'bathrooms', 'sqft_living','waterfront' , 'sqft_lot', 'floors','yr_built', 'yr_renovated','grade']]\n",
    "X_two = pd.get_dummies(X_model3, columns=['grade'], drop_first=True)\n",
    "X_two.columns = X_two.columns.str.replace(' ', '')\n",
    "\n",
    "model3 = sm.OLS(y, sm.add_constant(X_two))\n",
    "results3 = model3.fit()\n",
    "print(results3.summary())"
   ]
  },
  {
   "cell_type": "markdown",
   "metadata": {},
   "source": [
    "### Overall Interpretation and Analysis of Model 3(MLR)"
   ]
  },
  {
   "cell_type": "markdown",
   "metadata": {},
   "source": [
    "- Model 3 is a multiple linear regression model analyzing the impact of various factors on property prices. It includes features such as bedrooms, bathrooms, square footage, waterfront status, floors, year built, year renovated, and property grade. \n",
    "- The model explains about 59.7% of price variability, with waterfront status, square footage, and property grade showing significant impacts. However, the significance of year renovated is uncertain. Further analysis may be needed to address potential issues like multicollinearity.\n",
    "\n"
   ]
  },
  {
   "cell_type": "code",
   "execution_count": 53,
   "metadata": {},
   "outputs": [
    {
     "data": {
      "image/png": "[encoded data removed]",
      "text/plain": [
       "<Figure size 432x288 with 1 Axes>"
      ]
     },
     "metadata": {
      "needs_background": "light"
     },
     "output_type": "display_data"
    }
   ],
   "source": [
    "# Get the predicted values from the model\n",
    "y_pred_model3 = results3.predict(sm.add_constant(X_two))\n",
    "\n",
    "# Calculate the residuals\n",
    "residuals_model3 = y.values.flatten() - y_pred_model3\n",
    "\n",
    "# Plot the residuals against the predicted values\n",
    "plt.scatter(y_pred_model3, residuals_model3)\n",
    "plt.title('Residual Plot for Model 3')\n",
    "plt.xlabel('Predicted Values')\n",
    "plt.ylabel('Residuals')\n",
    "plt.axhline(y=0, color='r', linestyle='-')  # Add horizontal line at y=0\n",
    "plt.show()\n"
   ]
  },
  {
   "cell_type": "code",
   "execution_count": 54,
   "metadata": {},
   "outputs": [
    {
     "name": "stdout",
     "output_type": "stream",
     "text": [
      "Root Mean Squared Error (RMSE) for Model 3: 153308.7088019953\n"
     ]
    }
   ],
   "source": [
    "# Calculate RMSE\n",
    "mse_model3 = mean_squared_error(y, y_pred_model3)\n",
    "rmse_model3 = np.sqrt(mse_model3)\n",
    "print(\"Root Mean Squared Error (RMSE) for Model 3:\", rmse_model3)"
   ]
  },
  {
   "cell_type": "markdown",
   "metadata": {},
   "source": [
    "The RMSE (Root Mean Squared Error) for Model 3 is approximately 153,308. This means that, on average, the predicted property values from Model 3 are off by about $153,308 compared to the actual values. Lower RMSE values indicate better predictive accuracy. \n"
   ]
  },
  {
   "cell_type": "markdown",
   "metadata": {},
   "source": [
    "### MODEL 4(MLR)\n",
    "### Sqft_living , Sqft_lot,waterfront,floors,yr_built,yr_renovated,bedrooms and Bathrooms,grade,view impact on Property Value"
   ]
  },
  {
   "cell_type": "code",
   "execution_count": 55,
   "metadata": {},
   "outputs": [
    {
     "name": "stdout",
     "output_type": "stream",
     "text": [
      "                            OLS Regression Results                            \n",
      "==============================================================================\n",
      "Dep. Variable:                  price   R-squared:                       0.607\n",
      "Model:                            OLS   Adj. R-squared:                  0.607\n",
      "Method:                 Least Squares   F-statistic:                     1123.\n",
      "Date:                Tue, 30 Apr 2024   Prob (F-statistic):               0.00\n",
      "Time:                        14:50:33   Log-Likelihood:            -2.0362e+05\n",
      "No. Observations:               15257   AIC:                         4.073e+05\n",
      "Df Residuals:                   15235   BIC:                         4.074e+05\n",
      "Df Model:                          21                                         \n",
      "Covariance Type:            nonrobust                                         \n",
      "=====================================================================================\n",
      "                        coef    std err          t      P>|t|      [0.025      0.975]\n",
      "-------------------------------------------------------------------------------------\n",
      "const              6.464e+06   1.13e+05     56.985      0.000    6.24e+06    6.69e+06\n",
      "bedrooms          -1.571e+04   1882.309     -8.346      0.000   -1.94e+04    -1.2e+04\n",
      "bathrooms          3.156e+04   2647.751     11.920      0.000    2.64e+04    3.68e+04\n",
      "sqft_living         103.9754      2.969     35.019      0.000      98.156     109.795\n",
      "sqft_lot             -0.0712      0.031     -2.260      0.024      -0.133      -0.009\n",
      "floors             3.384e+04   3020.651     11.203      0.000    2.79e+04    3.98e+04\n",
      "waterfront         1.289e+05   2.24e+04      5.755      0.000     8.5e+04    1.73e+05\n",
      "yr_built          -2987.4915     58.340    -51.208      0.000   -3101.845   -2873.138\n",
      "yr_renovated          3.6783      3.343      1.100      0.271      -2.874      10.231\n",
      "grade_11Excellent  1.239e+05   1.35e+04      9.182      0.000    9.74e+04     1.5e+05\n",
      "grade_12Luxury     2.285e+05    5.4e+04      4.232      0.000    1.23e+05    3.34e+05\n",
      "grade_3Poor       -4.692e+05   1.52e+05     -3.093      0.002   -7.67e+05   -1.72e+05\n",
      "grade_4Low        -5.046e+05   3.89e+04    -12.974      0.000   -5.81e+05   -4.28e+05\n",
      "grade_5Fair       -5.008e+05   1.45e+04    -34.523      0.000   -5.29e+05   -4.72e+05\n",
      "grade_6LowAverage -4.456e+05   9095.925    -48.984      0.000   -4.63e+05   -4.28e+05\n",
      "grade_7Average     -3.45e+05   7584.805    -45.480      0.000    -3.6e+05    -3.3e+05\n",
      "grade_8Good       -2.391e+05   6966.567    -34.315      0.000   -2.53e+05   -2.25e+05\n",
      "grade_9Better     -1.017e+05   6994.175    -14.545      0.000   -1.15e+05    -8.8e+04\n",
      "view_EXCELLENT     1.132e+05   1.56e+04      7.261      0.000    8.26e+04    1.44e+05\n",
      "view_FAIR          2.397e+04   1.19e+04      2.010      0.044     596.125    4.74e+04\n",
      "view_GOOD           3.39e+04   1.08e+04      3.133      0.002    1.27e+04    5.51e+04\n",
      "view_NONE         -6.797e+04   6314.625    -10.763      0.000   -8.03e+04   -5.56e+04\n",
      "==============================================================================\n",
      "Omnibus:                     1584.013   Durbin-Watson:                   1.976\n",
      "Prob(Omnibus):                  0.000   Jarque-Bera (JB):             3552.973\n",
      "Skew:                           0.641   Prob(JB):                         0.00\n",
      "Kurtosis:                       4.987   Cond. No.                     5.27e+06\n",
      "==============================================================================\n",
      "\n",
      "Notes:\n",
      "[1] Standard Errors assume that the covariance matrix of the errors is correctly specified.\n",
      "[2] The condition number is large, 5.27e+06. This might indicate that there are\n",
      "strong multicollinearity or other numerical problems.\n"
     ]
    }
   ],
   "source": [
    "X_model4 = new_df[['bedrooms', 'bathrooms', 'sqft_living', 'sqft_lot', 'floors','waterfront' ,'yr_built', 'yr_renovated','grade','view']]\n",
    "X_three = pd.get_dummies(X_model4, columns=['grade', 'view'], drop_first=True)\n",
    "X_three.columns = X_three.columns.str.replace(' ', '')\n",
    "\n",
    "model4 = sm.OLS(y, sm.add_constant(X_three))\n",
    "results4 = model4.fit()\n",
    "print(results4.summary())"
   ]
  },
  {
   "cell_type": "markdown",
   "metadata": {},
   "source": [
    "### Overall Interpretation and Analysis of Model 4(MLR)\n",
    "\n",
    "\n",
    "Model 4 is a multiple linear regression model that examines the impact of various features on property prices. It includes factors such as bedrooms, bathrooms, square footage, waterfront status, floors, year built, year renovated, property grade, and view. The model explains approximately 60.7% of the variability in property prices.\n",
    "\n",
    "Key findings from the model include:\n",
    "\n",
    "- Bedrooms, bathrooms, square footage, waterfront status, floors, year built, property grade, and certain view categories (Excellent, Fair, Good) are significant predictors of property prices.\n",
    "- Some grade categories (Poor, Low, LowAverage, Average, Good, Better) and view categories (Fair, None) are negatively associated with property prices.\n",
    "- However, the significance of the year renovated feature is uncertain, as indicated by its high p-value."
   ]
  },
  {
   "cell_type": "code",
   "execution_count": 56,
   "metadata": {},
   "outputs": [
    {
     "data": {
      "image/png": "[encoded data removed]",
      "text/plain": [
       "<Figure size 432x288 with 1 Axes>"
      ]
     },
     "metadata": {
      "needs_background": "light"
     },
     "output_type": "display_data"
    }
   ],
   "source": [
    "# Get the predicted values from the model\n",
    "y_pred_model4 = results4.predict(sm.add_constant(X_three))\n",
    "\n",
    "# Calculate the residuals\n",
    "residuals_model4 = y.values.flatten() - y_pred_model4\n",
    "\n",
    "# Plot the residuals against the predicted values\n",
    "plt.scatter(y_pred_model4, residuals_model4)\n",
    "plt.title('Residual Plot for Model 4')\n",
    "plt.xlabel('Predicted Values')\n",
    "plt.ylabel('Residuals')\n",
    "plt.axhline(y=0, color='r', linestyle='-')  # Add horizontal line at y=0\n",
    "plt.show()"
   ]
  },
  {
   "cell_type": "code",
   "execution_count": 57,
   "metadata": {},
   "outputs": [
    {
     "name": "stdout",
     "output_type": "stream",
     "text": [
      "Root Mean Squared Error (RMSE) for Model 4: 151290.87497789308\n"
     ]
    }
   ],
   "source": [
    "# Calculate RMSE\n",
    "mse_model4 = np.mean(residuals_model4**2)\n",
    "rmse_model4 = np.sqrt(mse_model4)\n",
    "print(\"Root Mean Squared Error (RMSE) for Model 4:\", rmse_model4)"
   ]
  },
  {
   "cell_type": "markdown",
   "metadata": {},
   "source": [
    "## Recommended Model "
   ]
  },
  {
   "cell_type": "markdown",
   "metadata": {},
   "source": [
    "Comparing the RMSE values of the four models:\n",
    "\n",
    "- Model 1 (RMSE: 172777.4296)\n",
    "- Model 2 (RMSE: 171405.685)\n",
    "- Model 3 (RMSE: 153308.70)\n",
    "- Model 4 (RMSE: 151290.87)\n",
    "\n",
    "We can observe that Model 4 has the lowest RMSE among the three models, indicating that it performs better in predicting property values compared to Models 1,2 and 3. \n",
    "\n",
    "\n",
    "This suggests that the features included in Model 4 (Sqft_living , Sqft_lot,waterfront,floors,yr_built,yr_renovated,bedrooms and Bathrooms,grade,view) provide better predictive power for property values than the features in Models 1,2 and 3.\n",
    "\n",
    "\n",
    "Therefore, Model 4 may be considered the most effective among the three models in predicting property values based on the given features."
   ]
  }
 ],
 "metadata": {
  "kernelspec": {
   "display_name": "Python 3",
   "language": "python",
   "name": "python3"
  },
  "language_info": {
   "codemirror_mode": {
    "name": "ipython",
    "version": 3
   },
   "file_extension": ".py",
   "mimetype": "text/x-python",
   "name": "python",
   "nbconvert_exporter": "python",
   "pygments_lexer": "ipython3",
   "version": "3.8.5"
  }
 },
 "nbformat": 4,
 "nbformat_minor": 2
}
